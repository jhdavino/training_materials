{
 "cells": [
  {
   "cell_type": "code",
   "execution_count": 1,
   "metadata": {
    "_cell_guid": "79c7e3d0-c299-4dcb-8224-4455121ee9b0",
    "_uuid": "d629ff2d2480ee46fbb7e2d37f6b5fab8052498a",
    "execution": {
     "iopub.execute_input": "2021-01-20T11:50:24.958858Z",
     "iopub.status.busy": "2021-01-20T11:50:24.957769Z",
     "iopub.status.idle": "2021-01-20T11:50:25.655904Z",
     "shell.execute_reply": "2021-01-20T11:50:25.655408Z"
    },
    "jupyter": {
     "source_hidden": true
    },
    "papermill": {
     "duration": 0.708211,
     "end_time": "2021-01-20T11:50:25.656075",
     "exception": false,
     "start_time": "2021-01-20T11:50:24.947864",
     "status": "completed"
    },
    "tags": []
   },
   "outputs": [],
   "source": [
    "import pandas as pd\n",
    "import numpy as np\n",
    "from sqlalchemy import create_engine\n",
    "from datetime import date\n",
    "from sklearn.metrics import mean_squared_error"
   ]
  },
  {
   "cell_type": "code",
   "execution_count": 2,
   "metadata": {
    "execution": {
     "iopub.execute_input": "2021-01-20T11:50:25.671280Z",
     "iopub.status.busy": "2021-01-20T11:50:25.670800Z",
     "iopub.status.idle": "2021-01-20T11:50:25.725797Z",
     "shell.execute_reply": "2021-01-20T11:50:25.725397Z"
    },
    "jupyter": {
     "source_hidden": true
    },
    "papermill": {
     "duration": 0.06434,
     "end_time": "2021-01-20T11:50:25.725914",
     "exception": false,
     "start_time": "2021-01-20T11:50:25.661574",
     "status": "completed"
    },
    "tags": []
   },
   "outputs": [],
   "source": [
    "# THIS IS PURELY FOR TEST PURPOSE NEVER DO THAT IN PRODUCTION\n",
    "POSTGRES_ADDRESS='postgres'\n",
    "POSTGRES_PORT='5432'\n",
    "POSTGRES_USERNAME='postgres'\n",
    "POSTGRES_PASSWORD='postgres'\n",
    "\n",
    "postgres_conn = 'postgresql://{0}:{1}@{2}:{3}/'.format(POSTGRES_USERNAME, POSTGRES_PASSWORD, POSTGRES_ADDRESS, POSTGRES_PORT)\n",
    "\n",
    "# Create the connection\n",
    "cnx = create_engine(postgres_conn)\n"
   ]
  },
  {
   "cell_type": "markdown",
   "metadata": {
    "_uuid": "1998755ef10683262b29765345cff1c1c7d10b15",
    "papermill": {
     "duration": 0.005106,
     "end_time": "2021-01-20T11:50:25.736120",
     "exception": false,
     "start_time": "2021-01-20T11:50:25.731014",
     "status": "completed"
    },
    "tags": []
   },
   "source": [
    "Read in the Avocado Prices csv file as a DataFrame called df"
   ]
  },
  {
   "cell_type": "code",
   "execution_count": 3,
   "metadata": {
    "execution": {
     "iopub.execute_input": "2021-01-20T11:50:25.751280Z",
     "iopub.status.busy": "2021-01-20T11:50:25.750759Z",
     "iopub.status.idle": "2021-01-20T11:50:25.753799Z",
     "shell.execute_reply": "2021-01-20T11:50:25.753268Z"
    },
    "jupyter": {
     "source_hidden": true
    },
    "papermill": {
     "duration": 0.012936,
     "end_time": "2021-01-20T11:50:25.753914",
     "exception": false,
     "start_time": "2021-01-20T11:50:25.740978",
     "status": "completed"
    },
    "tags": [
     "parameters"
    ]
   },
   "outputs": [],
   "source": [
    "# Parameterized\n",
    "\n",
    "filepath='avocado.csv'\n",
    "ml_id='auto_100'\n",
    "ml_date=date.today()\n",
    "n_estimators = 100\n",
    "max_features = 'auto'"
   ]
  },
  {
   "cell_type": "code",
   "execution_count": 4,
   "id": "magnetic-gardening",
   "metadata": {
    "execution": {
     "iopub.execute_input": "2021-01-20T11:50:25.767988Z",
     "iopub.status.busy": "2021-01-20T11:50:25.767524Z",
     "iopub.status.idle": "2021-01-20T11:50:25.770577Z",
     "shell.execute_reply": "2021-01-20T11:50:25.769949Z"
    },
    "jupyter": {
     "source_hidden": true
    },
    "papermill": {
     "duration": 0.011581,
     "end_time": "2021-01-20T11:50:25.770709",
     "exception": false,
     "start_time": "2021-01-20T11:50:25.759128",
     "status": "completed"
    },
    "tags": [
     "injected-parameters"
    ]
   },
   "outputs": [],
   "source": [
    "# Parameters\n",
    "filepath = \"/tmp/avocado.csv\"\n",
    "n_estimators = 150\n",
    "max_features = \"auto\"\n",
    "ml_id = \"auto_150\"\n"
   ]
  },
  {
   "cell_type": "code",
   "execution_count": 5,
   "metadata": {
    "_uuid": "55d0e719eb8b91d763c1eacaf0f51ee0586486fc",
    "execution": {
     "iopub.execute_input": "2021-01-20T11:50:25.785636Z",
     "iopub.status.busy": "2021-01-20T11:50:25.785092Z",
     "iopub.status.idle": "2021-01-20T11:50:25.811869Z",
     "shell.execute_reply": "2021-01-20T11:50:25.811470Z"
    },
    "jupyter": {
     "source_hidden": true
    },
    "papermill": {
     "duration": 0.035478,
     "end_time": "2021-01-20T11:50:25.811986",
     "exception": false,
     "start_time": "2021-01-20T11:50:25.776508",
     "status": "completed"
    },
    "tags": []
   },
   "outputs": [],
   "source": [
    "df= pd.read_csv(filepath)"
   ]
  },
  {
   "cell_type": "markdown",
   "metadata": {
    "_uuid": "434e0457f550e2200424e5ec26162e1aa5904005",
    "papermill": {
     "duration": 0.005549,
     "end_time": "2021-01-20T11:50:25.822803",
     "exception": false,
     "start_time": "2021-01-20T11:50:25.817254",
     "status": "completed"
    },
    "tags": []
   },
   "source": [
    "The Feature \"Unnamed:0\" is just a representation of the indexes, so it's useless to keep it, lets remove it !"
   ]
  },
  {
   "cell_type": "code",
   "execution_count": 6,
   "metadata": {
    "_uuid": "9875398e37728dc3141fed4228be337a4735beb6",
    "execution": {
     "iopub.execute_input": "2021-01-20T11:50:25.838785Z",
     "iopub.status.busy": "2021-01-20T11:50:25.838132Z",
     "iopub.status.idle": "2021-01-20T11:50:25.842479Z",
     "shell.execute_reply": "2021-01-20T11:50:25.841948Z"
    },
    "jupyter": {
     "source_hidden": true
    },
    "papermill": {
     "duration": 0.014468,
     "end_time": "2021-01-20T11:50:25.842596",
     "exception": false,
     "start_time": "2021-01-20T11:50:25.828128",
     "status": "completed"
    },
    "tags": []
   },
   "outputs": [],
   "source": [
    "df.drop('Unnamed: 0',axis=1,inplace=True)"
   ]
  },
  {
   "cell_type": "markdown",
   "metadata": {
    "_uuid": "12e94ad381e4cb8d2c8a9bbe08ce07ab5d49c040",
    "papermill": {
     "duration": 0.005848,
     "end_time": "2021-01-20T11:50:25.854275",
     "exception": false,
     "start_time": "2021-01-20T11:50:25.848427",
     "status": "completed"
    },
    "tags": []
   },
   "source": [
    "well as a first observation we can see that we are lucky, we dont have any missing values (18249 complete data) and 13 columns.\n",
    "Now let's do some Feature Engineering on the Date Feature so we can be able to use the day and the month columns in building our machine learning model later. ( I didn't mention the year because its already there in data frame)"
   ]
  },
  {
   "cell_type": "code",
   "execution_count": 7,
   "metadata": {
    "_uuid": "f031639ce794656e877484d1c9c356df7028177f",
    "execution": {
     "iopub.execute_input": "2021-01-20T11:50:25.871299Z",
     "iopub.status.busy": "2021-01-20T11:50:25.870793Z",
     "iopub.status.idle": "2021-01-20T11:50:25.989959Z",
     "shell.execute_reply": "2021-01-20T11:50:25.989377Z"
    },
    "jupyter": {
     "source_hidden": true
    },
    "papermill": {
     "duration": 0.130139,
     "end_time": "2021-01-20T11:50:25.990082",
     "exception": false,
     "start_time": "2021-01-20T11:50:25.859943",
     "status": "completed"
    },
    "tags": []
   },
   "outputs": [],
   "source": [
    "df['Date']=pd.to_datetime(df['Date'])\n",
    "df['Month']=df['Date'].apply(lambda x:x.month)\n",
    "df['Day']=df['Date'].apply(lambda x:x.day)"
   ]
  },
  {
   "cell_type": "markdown",
   "metadata": {
    "_uuid": "ebdcac9924ce3e366fd3a75170682f7113385b7a",
    "papermill": {
     "duration": 0.005592,
     "end_time": "2021-01-20T11:50:26.001298",
     "exception": false,
     "start_time": "2021-01-20T11:50:25.995706",
     "status": "completed"
    },
    "tags": []
   },
   "source": [
    "as we can see we have 54 regions and 2 unique types, so it's going to be easy to to transform the type feature to dummies, but for the region its going to be a bit complexe so I decided to drop the entire column.\n",
    "I will drop the Date Feature as well because I already have 3 other columns for the Year, Month and Day."
   ]
  },
  {
   "cell_type": "code",
   "execution_count": 8,
   "metadata": {
    "_uuid": "a798682da34327b731ef262985fd50ba68e06460",
    "execution": {
     "iopub.execute_input": "2021-01-20T11:50:26.021358Z",
     "iopub.status.busy": "2021-01-20T11:50:26.016161Z",
     "iopub.status.idle": "2021-01-20T11:50:26.026303Z",
     "shell.execute_reply": "2021-01-20T11:50:26.025835Z"
    },
    "jupyter": {
     "source_hidden": true
    },
    "papermill": {
     "duration": 0.019581,
     "end_time": "2021-01-20T11:50:26.026456",
     "exception": false,
     "start_time": "2021-01-20T11:50:26.006875",
     "status": "completed"
    },
    "tags": []
   },
   "outputs": [],
   "source": [
    "df_final=pd.get_dummies(df.drop(['region','Date'],axis=1),drop_first=True)"
   ]
  },
  {
   "cell_type": "markdown",
   "metadata": {
    "_uuid": "8b74a6b88cb3e9b3e1d1e987e061048f203c7364",
    "papermill": {
     "duration": 0.005672,
     "end_time": "2021-01-20T11:50:26.037710",
     "exception": false,
     "start_time": "2021-01-20T11:50:26.032038",
     "status": "completed"
    },
    "tags": []
   },
   "source": [
    "Now our data are ready! lets apply our model which is going to be the Linear Regression because our Target variable 'AveragePrice'is continuous.\n",
    "Let's now begin to train out regression model! We will need to first split up our data into an X array that contains the features to train on, and a y array with the target variable"
   ]
  },
  {
   "cell_type": "code",
   "execution_count": 9,
   "metadata": {
    "_uuid": "830591f99de9715241e688bf9ce265e979401ff5",
    "execution": {
     "iopub.execute_input": "2021-01-20T11:50:26.053700Z",
     "iopub.status.busy": "2021-01-20T11:50:26.053149Z",
     "iopub.status.idle": "2021-01-20T11:50:26.063759Z",
     "shell.execute_reply": "2021-01-20T11:50:26.063276Z"
    },
    "jupyter": {
     "source_hidden": true
    },
    "papermill": {
     "duration": 0.020736,
     "end_time": "2021-01-20T11:50:26.063870",
     "exception": false,
     "start_time": "2021-01-20T11:50:26.043134",
     "status": "completed"
    },
    "tags": []
   },
   "outputs": [],
   "source": [
    "X=df_final.iloc[:,1:14]\n",
    "y=df_final['AveragePrice']\n",
    "from sklearn.model_selection import train_test_split\n",
    "X_train,X_test,y_train,y_test=train_test_split(X,y,test_size=0.2,random_state=42)"
   ]
  },
  {
   "cell_type": "markdown",
   "metadata": {
    "_uuid": "ea730c77a31cde9de98263079a189accb8b5772b",
    "papermill": {
     "duration": 0.005528,
     "end_time": "2021-01-20T11:50:26.074954",
     "exception": false,
     "start_time": "2021-01-20T11:50:26.069426",
     "status": "completed"
    },
    "tags": []
   },
   "source": [
    "Creating and Training the Model"
   ]
  },
  {
   "cell_type": "code",
   "execution_count": 10,
   "metadata": {
    "_uuid": "eb37015e78974e5fd2ae7e13d065c8ab0a9c6948",
    "execution": {
     "iopub.execute_input": "2021-01-20T11:50:26.091133Z",
     "iopub.status.busy": "2021-01-20T11:50:26.090645Z",
     "iopub.status.idle": "2021-01-20T11:50:38.795572Z",
     "shell.execute_reply": "2021-01-20T11:50:38.795929Z"
    },
    "jupyter": {
     "source_hidden": true
    },
    "papermill": {
     "duration": 12.71465,
     "end_time": "2021-01-20T11:50:38.796075",
     "exception": false,
     "start_time": "2021-01-20T11:50:26.081425",
     "status": "completed"
    },
    "tags": []
   },
   "outputs": [],
   "source": [
    "from sklearn.ensemble import RandomForestRegressor\n",
    "rdr = RandomForestRegressor(\n",
    "    n_estimators=n_estimators,\n",
    "    max_features=max_features\n",
    ")\n",
    "rdr.fit(X_train,y_train)\n",
    "pred=rdr.predict(X_test)"
   ]
  },
  {
   "cell_type": "code",
   "execution_count": 11,
   "metadata": {
    "_uuid": "7ed5b8d4e8abb44a4b548c13ac9fb2d65227d1c5",
    "execution": {
     "iopub.execute_input": "2021-01-20T11:50:38.811007Z",
     "iopub.status.busy": "2021-01-20T11:50:38.810557Z",
     "iopub.status.idle": "2021-01-20T11:50:38.813078Z",
     "shell.execute_reply": "2021-01-20T11:50:38.813466Z"
    },
    "jupyter": {
     "source_hidden": true
    },
    "papermill": {
     "duration": 0.011565,
     "end_time": "2021-01-20T11:50:38.813610",
     "exception": false,
     "start_time": "2021-01-20T11:50:38.802045",
     "status": "completed"
    },
    "tags": []
   },
   "outputs": [],
   "source": [
    "#%%capture cap --no-stderr\n",
    "#print(np.sqrt(mean_squared_error(y_test, pred)))"
   ]
  },
  {
   "cell_type": "code",
   "execution_count": 12,
   "metadata": {
    "execution": {
     "iopub.execute_input": "2021-01-20T11:50:38.828209Z",
     "iopub.status.busy": "2021-01-20T11:50:38.827766Z",
     "iopub.status.idle": "2021-01-20T11:50:38.830130Z",
     "shell.execute_reply": "2021-01-20T11:50:38.830517Z"
    },
    "jupyter": {
     "source_hidden": true
    },
    "papermill": {
     "duration": 0.011269,
     "end_time": "2021-01-20T11:50:38.830654",
     "exception": false,
     "start_time": "2021-01-20T11:50:38.819385",
     "status": "completed"
    },
    "tags": []
   },
   "outputs": [],
   "source": [
    "#with open(output_rmse, 'w') as f:\n",
    "#    f.write(cap.stdout)"
   ]
  },
  {
   "cell_type": "code",
   "execution_count": 13,
   "metadata": {
    "execution": {
     "iopub.execute_input": "2021-01-20T11:50:38.846771Z",
     "iopub.status.busy": "2021-01-20T11:50:38.846293Z",
     "iopub.status.idle": "2021-01-20T11:50:38.864565Z",
     "shell.execute_reply": "2021-01-20T11:50:38.864942Z"
    },
    "jupyter": {
     "source_hidden": true
    },
    "papermill": {
     "duration": 0.028611,
     "end_time": "2021-01-20T11:50:38.865083",
     "exception": false,
     "start_time": "2021-01-20T11:50:38.836472",
     "status": "completed"
    },
    "tags": []
   },
   "outputs": [
    {
     "data": {
      "text/plain": [
       "<sqlalchemy.engine.result.ResultProxy at 0x7fefb6ced5d0>"
      ]
     },
     "execution_count": 13,
     "metadata": {},
     "output_type": "execute_result"
    }
   ],
   "source": [
    "cnx.execute(\"\"\"\n",
    "    INSERT INTO ml.accuracies (ml_id, ml_date, accuracy) VALUES ('{0}', '{1}', {2}) \n",
    "    ON CONFLICT (ml_id, ml_date) \n",
    "    DO\n",
    "        UPDATE SET accuracy = {2};\n",
    "    \"\"\".format(ml_id, ml_date, np.sqrt(mean_squared_error(y_test, pred))))"
   ]
  }
 ],
 "metadata": {
  "kernelspec": {
   "display_name": "Python 3",
   "language": "python",
   "name": "python3"
  },
  "language_info": {
   "codemirror_mode": {
    "name": "ipython",
    "version": 3
   },
   "file_extension": ".py",
   "mimetype": "text/x-python",
   "name": "python",
   "nbconvert_exporter": "python",
   "pygments_lexer": "ipython3",
   "version": "3.7.9"
  },
  "papermill": {
   "duration": 16.286092,
   "end_time": "2021-01-20T11:50:40.190575",
   "environment_variables": {},
   "exception": null,
   "input_path": "/usr/local/airflow/include/notebooks/avocado_prediction.ipynb",
   "output_path": "/tmp/out-model-avocado-prediction-auto_150.ipynb",
   "parameters": {
    "filepath": "/tmp/avocado.csv",
    "max_features": "auto",
    "ml_id": "auto_150",
    "n_estimators": 150
   },
   "start_time": "2021-01-20T11:50:23.904483",
   "version": "2.1.2"
  }
 },
 "nbformat": 4,
 "nbformat_minor": 4
}
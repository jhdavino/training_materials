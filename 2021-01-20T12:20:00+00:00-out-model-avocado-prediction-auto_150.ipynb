{
 "cells": [
  {
   "cell_type": "code",
   "execution_count": 1,
   "metadata": {
    "_cell_guid": "79c7e3d0-c299-4dcb-8224-4455121ee9b0",
    "_uuid": "d629ff2d2480ee46fbb7e2d37f6b5fab8052498a",
    "execution": {
     "iopub.execute_input": "2021-01-20T12:30:22.381829Z",
     "iopub.status.busy": "2021-01-20T12:30:22.381316Z",
     "iopub.status.idle": "2021-01-20T12:30:23.058522Z",
     "shell.execute_reply": "2021-01-20T12:30:23.058021Z"
    },
    "jupyter": {
     "source_hidden": true
    },
    "papermill": {
     "duration": 0.687625,
     "end_time": "2021-01-20T12:30:23.058697",
     "exception": false,
     "start_time": "2021-01-20T12:30:22.371072",
     "status": "completed"
    },
    "tags": []
   },
   "outputs": [],
   "source": [
    "import pandas as pd\n",
    "import numpy as np\n",
    "from sqlalchemy import create_engine\n",
    "from datetime import date\n",
    "from sklearn.metrics import mean_squared_error"
   ]
  },
  {
   "cell_type": "code",
   "execution_count": 2,
   "metadata": {
    "execution": {
     "iopub.execute_input": "2021-01-20T12:30:23.073856Z",
     "iopub.status.busy": "2021-01-20T12:30:23.073346Z",
     "iopub.status.idle": "2021-01-20T12:30:23.136904Z",
     "shell.execute_reply": "2021-01-20T12:30:23.137328Z"
    },
    "jupyter": {
     "source_hidden": true
    },
    "papermill": {
     "duration": 0.073459,
     "end_time": "2021-01-20T12:30:23.137542",
     "exception": false,
     "start_time": "2021-01-20T12:30:23.064083",
     "status": "completed"
    },
    "tags": []
   },
   "outputs": [],
   "source": [
    "# THIS IS PURELY FOR TEST PURPOSE NEVER DO THAT IN PRODUCTION\n",
    "POSTGRES_ADDRESS='postgres'\n",
    "POSTGRES_PORT='5432'\n",
    "POSTGRES_USERNAME='postgres'\n",
    "POSTGRES_PASSWORD='postgres'\n",
    "\n",
    "postgres_conn = 'postgresql://{0}:{1}@{2}:{3}/'.format(POSTGRES_USERNAME, POSTGRES_PASSWORD, POSTGRES_ADDRESS, POSTGRES_PORT)\n",
    "\n",
    "# Create the connection\n",
    "cnx = create_engine(postgres_conn)\n"
   ]
  },
  {
   "cell_type": "markdown",
   "metadata": {
    "_uuid": "1998755ef10683262b29765345cff1c1c7d10b15",
    "papermill": {
     "duration": 0.005663,
     "end_time": "2021-01-20T12:30:23.150327",
     "exception": false,
     "start_time": "2021-01-20T12:30:23.144664",
     "status": "completed"
    },
    "tags": []
   },
   "source": [
    "Read in the Avocado Prices csv file as a DataFrame called df"
   ]
  },
  {
   "cell_type": "code",
   "execution_count": 3,
   "metadata": {
    "execution": {
     "iopub.execute_input": "2021-01-20T12:30:23.162702Z",
     "iopub.status.busy": "2021-01-20T12:30:23.162208Z",
     "iopub.status.idle": "2021-01-20T12:30:23.165098Z",
     "shell.execute_reply": "2021-01-20T12:30:23.165481Z"
    },
    "jupyter": {
     "source_hidden": true
    },
    "papermill": {
     "duration": 0.010289,
     "end_time": "2021-01-20T12:30:23.165620",
     "exception": false,
     "start_time": "2021-01-20T12:30:23.155331",
     "status": "completed"
    },
    "tags": [
     "parameters"
    ]
   },
   "outputs": [],
   "source": [
    "# Parameterized\n",
    "\n",
    "filepath='avocado.csv'\n",
    "ml_id='auto_100'\n",
    "ml_date=date.today()\n",
    "n_estimators = 100\n",
    "max_features = 'auto'"
   ]
  },
  {
   "cell_type": "code",
   "execution_count": 4,
   "id": "dress-sudan",
   "metadata": {
    "execution": {
     "iopub.execute_input": "2021-01-20T12:30:23.178471Z",
     "iopub.status.busy": "2021-01-20T12:30:23.178016Z",
     "iopub.status.idle": "2021-01-20T12:30:23.181099Z",
     "shell.execute_reply": "2021-01-20T12:30:23.181471Z"
    },
    "jupyter": {
     "source_hidden": true
    },
    "papermill": {
     "duration": 0.010947,
     "end_time": "2021-01-20T12:30:23.181604",
     "exception": false,
     "start_time": "2021-01-20T12:30:23.170657",
     "status": "completed"
    },
    "tags": [
     "injected-parameters"
    ]
   },
   "outputs": [],
   "source": [
    "# Parameters\n",
    "filepath = \"/tmp/avocado.csv\"\n",
    "n_estimators = 150\n",
    "max_features = \"auto\"\n",
    "ml_id = \"auto_150\"\n"
   ]
  },
  {
   "cell_type": "code",
   "execution_count": 5,
   "metadata": {
    "_uuid": "55d0e719eb8b91d763c1eacaf0f51ee0586486fc",
    "execution": {
     "iopub.execute_input": "2021-01-20T12:30:23.194960Z",
     "iopub.status.busy": "2021-01-20T12:30:23.194497Z",
     "iopub.status.idle": "2021-01-20T12:30:23.221401Z",
     "shell.execute_reply": "2021-01-20T12:30:23.221812Z"
    },
    "jupyter": {
     "source_hidden": true
    },
    "papermill": {
     "duration": 0.034799,
     "end_time": "2021-01-20T12:30:23.221959",
     "exception": false,
     "start_time": "2021-01-20T12:30:23.187160",
     "status": "completed"
    },
    "tags": []
   },
   "outputs": [],
   "source": [
    "df= pd.read_csv(filepath)"
   ]
  },
  {
   "cell_type": "markdown",
   "metadata": {
    "_uuid": "434e0457f550e2200424e5ec26162e1aa5904005",
    "papermill": {
     "duration": 0.005484,
     "end_time": "2021-01-20T12:30:23.232975",
     "exception": false,
     "start_time": "2021-01-20T12:30:23.227491",
     "status": "completed"
    },
    "tags": []
   },
   "source": [
    "The Feature \"Unnamed:0\" is just a representation of the indexes, so it's useless to keep it, lets remove it !"
   ]
  },
  {
   "cell_type": "code",
   "execution_count": 6,
   "metadata": {
    "_uuid": "9875398e37728dc3141fed4228be337a4735beb6",
    "execution": {
     "iopub.execute_input": "2021-01-20T12:30:23.245927Z",
     "iopub.status.busy": "2021-01-20T12:30:23.245421Z",
     "iopub.status.idle": "2021-01-20T12:30:23.250646Z",
     "shell.execute_reply": "2021-01-20T12:30:23.251041Z"
    },
    "jupyter": {
     "source_hidden": true
    },
    "papermill": {
     "duration": 0.012946,
     "end_time": "2021-01-20T12:30:23.251188",
     "exception": false,
     "start_time": "2021-01-20T12:30:23.238242",
     "status": "completed"
    },
    "tags": []
   },
   "outputs": [],
   "source": [
    "df.drop('Unnamed: 0',axis=1,inplace=True)"
   ]
  },
  {
   "cell_type": "markdown",
   "metadata": {
    "_uuid": "12e94ad381e4cb8d2c8a9bbe08ce07ab5d49c040",
    "papermill": {
     "duration": 0.005731,
     "end_time": "2021-01-20T12:30:23.262471",
     "exception": false,
     "start_time": "2021-01-20T12:30:23.256740",
     "status": "completed"
    },
    "tags": []
   },
   "source": [
    "well as a first observation we can see that we are lucky, we dont have any missing values (18249 complete data) and 13 columns.\n",
    "Now let's do some Feature Engineering on the Date Feature so we can be able to use the day and the month columns in building our machine learning model later. ( I didn't mention the year because its already there in data frame)"
   ]
  },
  {
   "cell_type": "code",
   "execution_count": 7,
   "metadata": {
    "_uuid": "f031639ce794656e877484d1c9c356df7028177f",
    "execution": {
     "iopub.execute_input": "2021-01-20T12:30:23.277390Z",
     "iopub.status.busy": "2021-01-20T12:30:23.276931Z",
     "iopub.status.idle": "2021-01-20T12:30:23.400589Z",
     "shell.execute_reply": "2021-01-20T12:30:23.401077Z"
    },
    "jupyter": {
     "source_hidden": true
    },
    "papermill": {
     "duration": 0.132229,
     "end_time": "2021-01-20T12:30:23.401269",
     "exception": false,
     "start_time": "2021-01-20T12:30:23.269040",
     "status": "completed"
    },
    "tags": []
   },
   "outputs": [],
   "source": [
    "df['Date']=pd.to_datetime(df['Date'])\n",
    "df['Month']=df['Date'].apply(lambda x:x.month)\n",
    "df['Day']=df['Date'].apply(lambda x:x.day)"
   ]
  },
  {
   "cell_type": "markdown",
   "metadata": {
    "_uuid": "ebdcac9924ce3e366fd3a75170682f7113385b7a",
    "papermill": {
     "duration": 0.005851,
     "end_time": "2021-01-20T12:30:23.412825",
     "exception": false,
     "start_time": "2021-01-20T12:30:23.406974",
     "status": "completed"
    },
    "tags": []
   },
   "source": [
    "as we can see we have 54 regions and 2 unique types, so it's going to be easy to to transform the type feature to dummies, but for the region its going to be a bit complexe so I decided to drop the entire column.\n",
    "I will drop the Date Feature as well because I already have 3 other columns for the Year, Month and Day."
   ]
  },
  {
   "cell_type": "code",
   "execution_count": 8,
   "metadata": {
    "_uuid": "a798682da34327b731ef262985fd50ba68e06460",
    "execution": {
     "iopub.execute_input": "2021-01-20T12:30:23.426459Z",
     "iopub.status.busy": "2021-01-20T12:30:23.426016Z",
     "iopub.status.idle": "2021-01-20T12:30:23.436018Z",
     "shell.execute_reply": "2021-01-20T12:30:23.436399Z"
    },
    "jupyter": {
     "source_hidden": true
    },
    "papermill": {
     "duration": 0.017866,
     "end_time": "2021-01-20T12:30:23.436578",
     "exception": false,
     "start_time": "2021-01-20T12:30:23.418712",
     "status": "completed"
    },
    "tags": []
   },
   "outputs": [],
   "source": [
    "df_final=pd.get_dummies(df.drop(['region','Date'],axis=1),drop_first=True)"
   ]
  },
  {
   "cell_type": "markdown",
   "metadata": {
    "_uuid": "8b74a6b88cb3e9b3e1d1e987e061048f203c7364",
    "papermill": {
     "duration": 0.005597,
     "end_time": "2021-01-20T12:30:23.447698",
     "exception": false,
     "start_time": "2021-01-20T12:30:23.442101",
     "status": "completed"
    },
    "tags": []
   },
   "source": [
    "Now our data are ready! lets apply our model which is going to be the Linear Regression because our Target variable 'AveragePrice'is continuous.\n",
    "Let's now begin to train out regression model! We will need to first split up our data into an X array that contains the features to train on, and a y array with the target variable"
   ]
  },
  {
   "cell_type": "code",
   "execution_count": 9,
   "metadata": {
    "_uuid": "830591f99de9715241e688bf9ce265e979401ff5",
    "execution": {
     "iopub.execute_input": "2021-01-20T12:30:23.460816Z",
     "iopub.status.busy": "2021-01-20T12:30:23.460324Z",
     "iopub.status.idle": "2021-01-20T12:30:23.472064Z",
     "shell.execute_reply": "2021-01-20T12:30:23.472456Z"
    },
    "jupyter": {
     "source_hidden": true
    },
    "papermill": {
     "duration": 0.019593,
     "end_time": "2021-01-20T12:30:23.472672",
     "exception": false,
     "start_time": "2021-01-20T12:30:23.453079",
     "status": "completed"
    },
    "tags": []
   },
   "outputs": [],
   "source": [
    "X=df_final.iloc[:,1:14]\n",
    "y=df_final['AveragePrice']\n",
    "from sklearn.model_selection import train_test_split\n",
    "X_train,X_test,y_train,y_test=train_test_split(X,y,test_size=0.2,random_state=42)"
   ]
  },
  {
   "cell_type": "markdown",
   "metadata": {
    "_uuid": "ea730c77a31cde9de98263079a189accb8b5772b",
    "papermill": {
     "duration": 0.006486,
     "end_time": "2021-01-20T12:30:23.485065",
     "exception": false,
     "start_time": "2021-01-20T12:30:23.478579",
     "status": "completed"
    },
    "tags": []
   },
   "source": [
    "Creating and Training the Model"
   ]
  },
  {
   "cell_type": "code",
   "execution_count": 10,
   "metadata": {
    "_uuid": "eb37015e78974e5fd2ae7e13d065c8ab0a9c6948",
    "execution": {
     "iopub.execute_input": "2021-01-20T12:30:23.501840Z",
     "iopub.status.busy": "2021-01-20T12:30:23.501348Z",
     "iopub.status.idle": "2021-01-20T12:30:36.500566Z",
     "shell.execute_reply": "2021-01-20T12:30:36.500935Z"
    },
    "jupyter": {
     "source_hidden": true
    },
    "papermill": {
     "duration": 13.008042,
     "end_time": "2021-01-20T12:30:36.501253",
     "exception": false,
     "start_time": "2021-01-20T12:30:23.493211",
     "status": "completed"
    },
    "tags": []
   },
   "outputs": [],
   "source": [
    "from sklearn.ensemble import RandomForestRegressor\n",
    "rdr = RandomForestRegressor(\n",
    "    n_estimators=n_estimators,\n",
    "    max_features=max_features\n",
    ")\n",
    "rdr.fit(X_train,y_train)\n",
    "pred=rdr.predict(X_test)"
   ]
  },
  {
   "cell_type": "code",
   "execution_count": 11,
   "metadata": {
    "_uuid": "7ed5b8d4e8abb44a4b548c13ac9fb2d65227d1c5",
    "execution": {
     "iopub.execute_input": "2021-01-20T12:30:36.516394Z",
     "iopub.status.busy": "2021-01-20T12:30:36.515939Z",
     "iopub.status.idle": "2021-01-20T12:30:36.518208Z",
     "shell.execute_reply": "2021-01-20T12:30:36.518607Z"
    },
    "jupyter": {
     "source_hidden": true
    },
    "papermill": {
     "duration": 0.011285,
     "end_time": "2021-01-20T12:30:36.518737",
     "exception": false,
     "start_time": "2021-01-20T12:30:36.507452",
     "status": "completed"
    },
    "tags": []
   },
   "outputs": [],
   "source": [
    "#%%capture cap --no-stderr\n",
    "#print(np.sqrt(mean_squared_error(y_test, pred)))"
   ]
  },
  {
   "cell_type": "code",
   "execution_count": 12,
   "metadata": {
    "execution": {
     "iopub.execute_input": "2021-01-20T12:30:36.535507Z",
     "iopub.status.busy": "2021-01-20T12:30:36.535058Z",
     "iopub.status.idle": "2021-01-20T12:30:36.537563Z",
     "shell.execute_reply": "2021-01-20T12:30:36.537958Z"
    },
    "jupyter": {
     "source_hidden": true
    },
    "papermill": {
     "duration": 0.010705,
     "end_time": "2021-01-20T12:30:36.538103",
     "exception": false,
     "start_time": "2021-01-20T12:30:36.527398",
     "status": "completed"
    },
    "tags": []
   },
   "outputs": [],
   "source": [
    "#with open(output_rmse, 'w') as f:\n",
    "#    f.write(cap.stdout)"
   ]
  },
  {
   "cell_type": "code",
   "execution_count": 13,
   "metadata": {
    "execution": {
     "iopub.execute_input": "2021-01-20T12:30:36.551698Z",
     "iopub.status.busy": "2021-01-20T12:30:36.551234Z",
     "iopub.status.idle": "2021-01-20T12:30:36.572015Z",
     "shell.execute_reply": "2021-01-20T12:30:36.572420Z"
    },
    "jupyter": {
     "source_hidden": true
    },
    "papermill": {
     "duration": 0.02898,
     "end_time": "2021-01-20T12:30:36.572616",
     "exception": false,
     "start_time": "2021-01-20T12:30:36.543636",
     "status": "completed"
    },
    "tags": []
   },
   "outputs": [
    {
     "data": {
      "text/plain": [
       "<sqlalchemy.engine.result.ResultProxy at 0x7f2df80fee10>"
      ]
     },
     "execution_count": 13,
     "metadata": {},
     "output_type": "execute_result"
    }
   ],
   "source": [
    "cnx.execute(\"\"\"\n",
    "    INSERT INTO ml.accuracies (ml_id, ml_date, accuracy) VALUES ('{0}', '{1}', {2}) \n",
    "    ON CONFLICT (ml_id, ml_date) \n",
    "    DO\n",
    "        UPDATE SET accuracy = {2};\n",
    "    \"\"\".format(ml_id, ml_date, np.sqrt(mean_squared_error(y_test, pred))))"
   ]
  }
 ],
 "metadata": {
  "kernelspec": {
   "display_name": "Python 3",
   "language": "python",
   "name": "python3"
  },
  "language_info": {
   "codemirror_mode": {
    "name": "ipython",
    "version": 3
   },
   "file_extension": ".py",
   "mimetype": "text/x-python",
   "name": "python",
   "nbconvert_exporter": "python",
   "pygments_lexer": "ipython3",
   "version": "3.7.9"
  },
  "papermill": {
   "duration": 15.661919,
   "end_time": "2021-01-20T12:30:36.987201",
   "environment_variables": {},
   "exception": null,
   "input_path": "/usr/local/airflow/include/notebooks/avocado_prediction.ipynb",
   "output_path": "/tmp/out-model-avocado-prediction-auto_150.ipynb",
   "parameters": {
    "filepath": "/tmp/avocado.csv",
    "max_features": "auto",
    "ml_id": "auto_150",
    "n_estimators": 150
   },
   "start_time": "2021-01-20T12:30:21.325282",
   "version": "2.1.2"
  }
 },
 "nbformat": 4,
 "nbformat_minor": 4
}
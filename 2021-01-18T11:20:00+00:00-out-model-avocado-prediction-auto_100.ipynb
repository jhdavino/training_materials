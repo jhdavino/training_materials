{
 "cells": [
  {
   "cell_type": "code",
   "execution_count": 1,
   "metadata": {
    "_cell_guid": "79c7e3d0-c299-4dcb-8224-4455121ee9b0",
    "_uuid": "d629ff2d2480ee46fbb7e2d37f6b5fab8052498a",
    "execution": {
     "iopub.execute_input": "2021-01-18T11:30:10.184065Z",
     "iopub.status.busy": "2021-01-18T11:30:10.182442Z",
     "iopub.status.idle": "2021-01-18T11:30:10.948598Z",
     "shell.execute_reply": "2021-01-18T11:30:10.947065Z"
    },
    "jupyter": {
     "source_hidden": true
    },
    "papermill": {
     "duration": 0.780269,
     "end_time": "2021-01-18T11:30:10.949352",
     "exception": false,
     "start_time": "2021-01-18T11:30:10.169083",
     "status": "completed"
    },
    "tags": []
   },
   "outputs": [],
   "source": [
    "import pandas as pd\n",
    "import numpy as np\n",
    "from sqlalchemy import create_engine\n",
    "from datetime import date\n",
    "from sklearn.metrics import mean_squared_error"
   ]
  },
  {
   "cell_type": "code",
   "execution_count": 2,
   "metadata": {
    "execution": {
     "iopub.execute_input": "2021-01-18T11:30:10.971181Z",
     "iopub.status.busy": "2021-01-18T11:30:10.970203Z",
     "iopub.status.idle": "2021-01-18T11:30:11.063494Z",
     "shell.execute_reply": "2021-01-18T11:30:11.061957Z"
    },
    "jupyter": {
     "source_hidden": true
    },
    "papermill": {
     "duration": 0.10716,
     "end_time": "2021-01-18T11:30:11.064031",
     "exception": false,
     "start_time": "2021-01-18T11:30:10.956871",
     "status": "completed"
    },
    "tags": []
   },
   "outputs": [],
   "source": [
    "# THIS IS PURELY FOR TEST PURPOSE NEVER DO THAT IN PRODUCTION\n",
    "POSTGRES_ADDRESS='postgres'\n",
    "POSTGRES_PORT='5432'\n",
    "POSTGRES_USERNAME='postgres'\n",
    "POSTGRES_PASSWORD='postgres'\n",
    "\n",
    "postgres_conn = 'postgresql://{0}:{1}@{2}:{3}/'.format(POSTGRES_USERNAME, POSTGRES_PASSWORD, POSTGRES_ADDRESS, POSTGRES_PORT)\n",
    "\n",
    "# Create the connection\n",
    "cnx = create_engine(postgres_conn)\n"
   ]
  },
  {
   "cell_type": "markdown",
   "metadata": {
    "_uuid": "1998755ef10683262b29765345cff1c1c7d10b15",
    "papermill": {
     "duration": 0.007295,
     "end_time": "2021-01-18T11:30:11.079784",
     "exception": false,
     "start_time": "2021-01-18T11:30:11.072489",
     "status": "completed"
    },
    "tags": []
   },
   "source": [
    "Read in the Avocado Prices csv file as a DataFrame called df"
   ]
  },
  {
   "cell_type": "code",
   "execution_count": 3,
   "metadata": {
    "execution": {
     "iopub.execute_input": "2021-01-18T11:30:11.101344Z",
     "iopub.status.busy": "2021-01-18T11:30:11.100441Z",
     "iopub.status.idle": "2021-01-18T11:30:11.104515Z",
     "shell.execute_reply": "2021-01-18T11:30:11.103865Z"
    },
    "jupyter": {
     "source_hidden": true
    },
    "papermill": {
     "duration": 0.017431,
     "end_time": "2021-01-18T11:30:11.104823",
     "exception": false,
     "start_time": "2021-01-18T11:30:11.087392",
     "status": "completed"
    },
    "tags": [
     "parameters"
    ]
   },
   "outputs": [],
   "source": [
    "# Parameterized\n",
    "\n",
    "filepath='avocado.csv'\n",
    "ml_id='auto_100'\n",
    "ml_date=date.today()\n",
    "n_estimators = 100\n",
    "max_features = 'auto'"
   ]
  },
  {
   "cell_type": "code",
   "execution_count": 4,
   "id": "italic-utilization",
   "metadata": {
    "execution": {
     "iopub.execute_input": "2021-01-18T11:30:11.125114Z",
     "iopub.status.busy": "2021-01-18T11:30:11.124196Z",
     "iopub.status.idle": "2021-01-18T11:30:11.130359Z",
     "shell.execute_reply": "2021-01-18T11:30:11.129054Z"
    },
    "jupyter": {
     "source_hidden": true
    },
    "papermill": {
     "duration": 0.019367,
     "end_time": "2021-01-18T11:30:11.130701",
     "exception": false,
     "start_time": "2021-01-18T11:30:11.111334",
     "status": "completed"
    },
    "tags": [
     "injected-parameters"
    ]
   },
   "outputs": [],
   "source": [
    "# Parameters\n",
    "filepath = \"/tmp/avocado.csv\"\n",
    "n_estimators = 100\n",
    "max_features = \"auto\"\n",
    "ml_id = \"auto_100\"\n"
   ]
  },
  {
   "cell_type": "code",
   "execution_count": 5,
   "metadata": {
    "_uuid": "55d0e719eb8b91d763c1eacaf0f51ee0586486fc",
    "execution": {
     "iopub.execute_input": "2021-01-18T11:30:11.151802Z",
     "iopub.status.busy": "2021-01-18T11:30:11.150779Z",
     "iopub.status.idle": "2021-01-18T11:30:11.194990Z",
     "shell.execute_reply": "2021-01-18T11:30:11.193840Z"
    },
    "jupyter": {
     "source_hidden": true
    },
    "papermill": {
     "duration": 0.056816,
     "end_time": "2021-01-18T11:30:11.195261",
     "exception": false,
     "start_time": "2021-01-18T11:30:11.138445",
     "status": "completed"
    },
    "tags": []
   },
   "outputs": [],
   "source": [
    "df= pd.read_csv(filepath)"
   ]
  },
  {
   "cell_type": "markdown",
   "metadata": {
    "_uuid": "434e0457f550e2200424e5ec26162e1aa5904005",
    "papermill": {
     "duration": 0.006527,
     "end_time": "2021-01-18T11:30:11.209972",
     "exception": false,
     "start_time": "2021-01-18T11:30:11.203445",
     "status": "completed"
    },
    "tags": []
   },
   "source": [
    "The Feature \"Unnamed:0\" is just a representation of the indexes, so it's useless to keep it, lets remove it !"
   ]
  },
  {
   "cell_type": "code",
   "execution_count": 6,
   "metadata": {
    "_uuid": "9875398e37728dc3141fed4228be337a4735beb6",
    "execution": {
     "iopub.execute_input": "2021-01-18T11:30:11.228048Z",
     "iopub.status.busy": "2021-01-18T11:30:11.226719Z",
     "iopub.status.idle": "2021-01-18T11:30:11.233653Z",
     "shell.execute_reply": "2021-01-18T11:30:11.234251Z"
    },
    "jupyter": {
     "source_hidden": true
    },
    "papermill": {
     "duration": 0.018594,
     "end_time": "2021-01-18T11:30:11.234602",
     "exception": false,
     "start_time": "2021-01-18T11:30:11.216008",
     "status": "completed"
    },
    "tags": []
   },
   "outputs": [],
   "source": [
    "df.drop('Unnamed: 0',axis=1,inplace=True)"
   ]
  },
  {
   "cell_type": "markdown",
   "metadata": {
    "_uuid": "12e94ad381e4cb8d2c8a9bbe08ce07ab5d49c040",
    "papermill": {
     "duration": 0.007411,
     "end_time": "2021-01-18T11:30:11.249023",
     "exception": false,
     "start_time": "2021-01-18T11:30:11.241612",
     "status": "completed"
    },
    "tags": []
   },
   "source": [
    "well as a first observation we can see that we are lucky, we dont have any missing values (18249 complete data) and 13 columns.\n",
    "Now let's do some Feature Engineering on the Date Feature so we can be able to use the day and the month columns in building our machine learning model later. ( I didn't mention the year because its already there in data frame)"
   ]
  },
  {
   "cell_type": "code",
   "execution_count": 7,
   "metadata": {
    "_uuid": "f031639ce794656e877484d1c9c356df7028177f",
    "execution": {
     "iopub.execute_input": "2021-01-18T11:30:11.276924Z",
     "iopub.status.busy": "2021-01-18T11:30:11.273165Z",
     "iopub.status.idle": "2021-01-18T11:30:11.474981Z",
     "shell.execute_reply": "2021-01-18T11:30:11.474323Z"
    },
    "jupyter": {
     "source_hidden": true
    },
    "papermill": {
     "duration": 0.219467,
     "end_time": "2021-01-18T11:30:11.475215",
     "exception": false,
     "start_time": "2021-01-18T11:30:11.255748",
     "status": "completed"
    },
    "tags": []
   },
   "outputs": [],
   "source": [
    "df['Date']=pd.to_datetime(df['Date'])\n",
    "df['Month']=df['Date'].apply(lambda x:x.month)\n",
    "df['Day']=df['Date'].apply(lambda x:x.day)"
   ]
  },
  {
   "cell_type": "markdown",
   "metadata": {
    "_uuid": "ebdcac9924ce3e366fd3a75170682f7113385b7a",
    "papermill": {
     "duration": 0.012215,
     "end_time": "2021-01-18T11:30:11.497819",
     "exception": false,
     "start_time": "2021-01-18T11:30:11.485604",
     "status": "completed"
    },
    "tags": []
   },
   "source": [
    "as we can see we have 54 regions and 2 unique types, so it's going to be easy to to transform the type feature to dummies, but for the region its going to be a bit complexe so I decided to drop the entire column.\n",
    "I will drop the Date Feature as well because I already have 3 other columns for the Year, Month and Day."
   ]
  },
  {
   "cell_type": "code",
   "execution_count": 8,
   "metadata": {
    "_uuid": "a798682da34327b731ef262985fd50ba68e06460",
    "execution": {
     "iopub.execute_input": "2021-01-18T11:30:11.533148Z",
     "iopub.status.busy": "2021-01-18T11:30:11.531837Z",
     "iopub.status.idle": "2021-01-18T11:30:11.549530Z",
     "shell.execute_reply": "2021-01-18T11:30:11.550368Z"
    },
    "jupyter": {
     "source_hidden": true
    },
    "papermill": {
     "duration": 0.042623,
     "end_time": "2021-01-18T11:30:11.550796",
     "exception": false,
     "start_time": "2021-01-18T11:30:11.508173",
     "status": "completed"
    },
    "tags": []
   },
   "outputs": [],
   "source": [
    "df_final=pd.get_dummies(df.drop(['region','Date'],axis=1),drop_first=True)"
   ]
  },
  {
   "cell_type": "markdown",
   "metadata": {
    "_uuid": "8b74a6b88cb3e9b3e1d1e987e061048f203c7364",
    "papermill": {
     "duration": 0.009321,
     "end_time": "2021-01-18T11:30:11.569772",
     "exception": false,
     "start_time": "2021-01-18T11:30:11.560451",
     "status": "completed"
    },
    "tags": []
   },
   "source": [
    "Now our data are ready! lets apply our model which is going to be the Linear Regression because our Target variable 'AveragePrice'is continuous.\n",
    "Let's now begin to train out regression model! We will need to first split up our data into an X array that contains the features to train on, and a y array with the target variable"
   ]
  },
  {
   "cell_type": "code",
   "execution_count": 9,
   "metadata": {
    "_uuid": "830591f99de9715241e688bf9ce265e979401ff5",
    "execution": {
     "iopub.execute_input": "2021-01-18T11:30:11.596929Z",
     "iopub.status.busy": "2021-01-18T11:30:11.595632Z",
     "iopub.status.idle": "2021-01-18T11:30:11.615590Z",
     "shell.execute_reply": "2021-01-18T11:30:11.614864Z"
    },
    "jupyter": {
     "source_hidden": true
    },
    "papermill": {
     "duration": 0.037939,
     "end_time": "2021-01-18T11:30:11.615891",
     "exception": false,
     "start_time": "2021-01-18T11:30:11.577952",
     "status": "completed"
    },
    "tags": []
   },
   "outputs": [],
   "source": [
    "X=df_final.iloc[:,1:14]\n",
    "y=df_final['AveragePrice']\n",
    "from sklearn.model_selection import train_test_split\n",
    "X_train,X_test,y_train,y_test=train_test_split(X,y,test_size=0.2,random_state=42)"
   ]
  },
  {
   "cell_type": "markdown",
   "metadata": {
    "_uuid": "ea730c77a31cde9de98263079a189accb8b5772b",
    "papermill": {
     "duration": 0.009499,
     "end_time": "2021-01-18T11:30:11.635598",
     "exception": false,
     "start_time": "2021-01-18T11:30:11.626099",
     "status": "completed"
    },
    "tags": []
   },
   "source": [
    "Creating and Training the Model"
   ]
  },
  {
   "cell_type": "code",
   "execution_count": 10,
   "metadata": {
    "_uuid": "eb37015e78974e5fd2ae7e13d065c8ab0a9c6948",
    "execution": {
     "iopub.execute_input": "2021-01-18T11:30:11.669923Z",
     "iopub.status.busy": "2021-01-18T11:30:11.668874Z",
     "iopub.status.idle": "2021-01-18T11:30:21.937517Z",
     "shell.execute_reply": "2021-01-18T11:30:21.936993Z"
    },
    "jupyter": {
     "source_hidden": true
    },
    "papermill": {
     "duration": 10.293558,
     "end_time": "2021-01-18T11:30:21.937737",
     "exception": false,
     "start_time": "2021-01-18T11:30:11.644179",
     "status": "completed"
    },
    "tags": []
   },
   "outputs": [],
   "source": [
    "from sklearn.ensemble import RandomForestRegressor\n",
    "rdr = RandomForestRegressor(\n",
    "    n_estimators=n_estimators,\n",
    "    max_features=max_features\n",
    ")\n",
    "rdr.fit(X_train,y_train)\n",
    "pred=rdr.predict(X_test)"
   ]
  },
  {
   "cell_type": "code",
   "execution_count": 11,
   "metadata": {
    "_uuid": "7ed5b8d4e8abb44a4b548c13ac9fb2d65227d1c5",
    "execution": {
     "iopub.execute_input": "2021-01-18T11:30:21.954660Z",
     "iopub.status.busy": "2021-01-18T11:30:21.954053Z",
     "iopub.status.idle": "2021-01-18T11:30:21.958790Z",
     "shell.execute_reply": "2021-01-18T11:30:21.958129Z"
    },
    "jupyter": {
     "source_hidden": true
    },
    "papermill": {
     "duration": 0.014808,
     "end_time": "2021-01-18T11:30:21.959054",
     "exception": false,
     "start_time": "2021-01-18T11:30:21.944246",
     "status": "completed"
    },
    "tags": []
   },
   "outputs": [],
   "source": [
    "#%%capture cap --no-stderr\n",
    "#print(np.sqrt(mean_squared_error(y_test, pred)))"
   ]
  },
  {
   "cell_type": "code",
   "execution_count": 12,
   "metadata": {
    "execution": {
     "iopub.execute_input": "2021-01-18T11:30:21.976647Z",
     "iopub.status.busy": "2021-01-18T11:30:21.976022Z",
     "iopub.status.idle": "2021-01-18T11:30:21.978448Z",
     "shell.execute_reply": "2021-01-18T11:30:21.979212Z"
    },
    "jupyter": {
     "source_hidden": true
    },
    "papermill": {
     "duration": 0.012937,
     "end_time": "2021-01-18T11:30:21.979480",
     "exception": false,
     "start_time": "2021-01-18T11:30:21.966543",
     "status": "completed"
    },
    "tags": []
   },
   "outputs": [],
   "source": [
    "#with open(output_rmse, 'w') as f:\n",
    "#    f.write(cap.stdout)"
   ]
  },
  {
   "cell_type": "code",
   "execution_count": 13,
   "metadata": {
    "execution": {
     "iopub.execute_input": "2021-01-18T11:30:22.021456Z",
     "iopub.status.busy": "2021-01-18T11:30:22.020235Z",
     "iopub.status.idle": "2021-01-18T11:30:22.051613Z",
     "shell.execute_reply": "2021-01-18T11:30:22.052232Z"
    },
    "jupyter": {
     "source_hidden": true
    },
    "papermill": {
     "duration": 0.058918,
     "end_time": "2021-01-18T11:30:22.052525",
     "exception": false,
     "start_time": "2021-01-18T11:30:21.993607",
     "status": "completed"
    },
    "tags": []
   },
   "outputs": [
    {
     "data": {
      "text/plain": [
       "<sqlalchemy.engine.result.ResultProxy at 0x7f2f3e002f10>"
      ]
     },
     "execution_count": 13,
     "metadata": {},
     "output_type": "execute_result"
    }
   ],
   "source": [
    "cnx.execute(\"\"\"\n",
    "    INSERT INTO ml.accuracies (ml_id, ml_date, accuracy) VALUES ('{0}', '{1}', {2}) \n",
    "    ON CONFLICT (ml_id, ml_date) \n",
    "    DO\n",
    "        UPDATE SET accuracy = {2};\n",
    "    \"\"\".format(ml_id, ml_date, np.sqrt(mean_squared_error(y_test, pred))))"
   ]
  }
 ],
 "metadata": {
  "kernelspec": {
   "display_name": "Python 3",
   "language": "python",
   "name": "python3"
  },
  "language_info": {
   "codemirror_mode": {
    "name": "ipython",
    "version": 3
   },
   "file_extension": ".py",
   "mimetype": "text/x-python",
   "name": "python",
   "nbconvert_exporter": "python",
   "pygments_lexer": "ipython3",
   "version": "3.7.9"
  },
  "papermill": {
   "duration": 13.78876,
   "end_time": "2021-01-18T11:30:22.575234",
   "environment_variables": {},
   "exception": null,
   "input_path": "/usr/local/airflow/include/notebooks/avocado_prediction.ipynb",
   "output_path": "/tmp/out-model-avocado-prediction-auto_100.ipynb",
   "parameters": {
    "filepath": "/tmp/avocado.csv",
    "max_features": "auto",
    "ml_id": "auto_100",
    "n_estimators": 100
   },
   "start_time": "2021-01-18T11:30:08.786474",
   "version": "2.1.2"
  }
 },
 "nbformat": 4,
 "nbformat_minor": 4
}
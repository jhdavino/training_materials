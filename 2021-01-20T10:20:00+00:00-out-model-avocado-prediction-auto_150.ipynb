{
 "cells": [
  {
   "cell_type": "code",
   "execution_count": 1,
   "metadata": {
    "_cell_guid": "79c7e3d0-c299-4dcb-8224-4455121ee9b0",
    "_uuid": "d629ff2d2480ee46fbb7e2d37f6b5fab8052498a",
    "execution": {
     "iopub.execute_input": "2021-01-20T10:30:20.411754Z",
     "iopub.status.busy": "2021-01-20T10:30:20.410875Z",
     "iopub.status.idle": "2021-01-20T10:30:21.183525Z",
     "shell.execute_reply": "2021-01-20T10:30:21.182559Z"
    },
    "jupyter": {
     "source_hidden": true
    },
    "papermill": {
     "duration": 0.784572,
     "end_time": "2021-01-20T10:30:21.183959",
     "exception": false,
     "start_time": "2021-01-20T10:30:20.399387",
     "status": "completed"
    },
    "tags": []
   },
   "outputs": [],
   "source": [
    "import pandas as pd\n",
    "import numpy as np\n",
    "from sqlalchemy import create_engine\n",
    "from datetime import date\n",
    "from sklearn.metrics import mean_squared_error"
   ]
  },
  {
   "cell_type": "code",
   "execution_count": 2,
   "metadata": {
    "execution": {
     "iopub.execute_input": "2021-01-20T10:30:21.203126Z",
     "iopub.status.busy": "2021-01-20T10:30:21.202398Z",
     "iopub.status.idle": "2021-01-20T10:30:21.280548Z",
     "shell.execute_reply": "2021-01-20T10:30:21.279849Z"
    },
    "jupyter": {
     "source_hidden": true
    },
    "papermill": {
     "duration": 0.089034,
     "end_time": "2021-01-20T10:30:21.280682",
     "exception": false,
     "start_time": "2021-01-20T10:30:21.191648",
     "status": "completed"
    },
    "tags": []
   },
   "outputs": [],
   "source": [
    "# THIS IS PURELY FOR TEST PURPOSE NEVER DO THAT IN PRODUCTION\n",
    "POSTGRES_ADDRESS='postgres'\n",
    "POSTGRES_PORT='5432'\n",
    "POSTGRES_USERNAME='postgres'\n",
    "POSTGRES_PASSWORD='postgres'\n",
    "\n",
    "postgres_conn = 'postgresql://{0}:{1}@{2}:{3}/'.format(POSTGRES_USERNAME, POSTGRES_PASSWORD, POSTGRES_ADDRESS, POSTGRES_PORT)\n",
    "\n",
    "# Create the connection\n",
    "cnx = create_engine(postgres_conn)\n"
   ]
  },
  {
   "cell_type": "markdown",
   "metadata": {
    "_uuid": "1998755ef10683262b29765345cff1c1c7d10b15",
    "papermill": {
     "duration": 0.006001,
     "end_time": "2021-01-20T10:30:21.292986",
     "exception": false,
     "start_time": "2021-01-20T10:30:21.286985",
     "status": "completed"
    },
    "tags": []
   },
   "source": [
    "Read in the Avocado Prices csv file as a DataFrame called df"
   ]
  },
  {
   "cell_type": "code",
   "execution_count": 3,
   "metadata": {
    "execution": {
     "iopub.execute_input": "2021-01-20T10:30:21.310541Z",
     "iopub.status.busy": "2021-01-20T10:30:21.310042Z",
     "iopub.status.idle": "2021-01-20T10:30:21.313625Z",
     "shell.execute_reply": "2021-01-20T10:30:21.313156Z"
    },
    "jupyter": {
     "source_hidden": true
    },
    "papermill": {
     "duration": 0.014764,
     "end_time": "2021-01-20T10:30:21.313775",
     "exception": false,
     "start_time": "2021-01-20T10:30:21.299011",
     "status": "completed"
    },
    "tags": [
     "parameters"
    ]
   },
   "outputs": [],
   "source": [
    "# Parameterized\n",
    "\n",
    "filepath='avocado.csv'\n",
    "ml_id='auto_100'\n",
    "ml_date=date.today()\n",
    "n_estimators = 100\n",
    "max_features = 'auto'"
   ]
  },
  {
   "cell_type": "code",
   "execution_count": 4,
   "id": "defined-somewhere",
   "metadata": {
    "execution": {
     "iopub.execute_input": "2021-01-20T10:30:21.329147Z",
     "iopub.status.busy": "2021-01-20T10:30:21.328601Z",
     "iopub.status.idle": "2021-01-20T10:30:21.331571Z",
     "shell.execute_reply": "2021-01-20T10:30:21.331999Z"
    },
    "jupyter": {
     "source_hidden": true
    },
    "papermill": {
     "duration": 0.012892,
     "end_time": "2021-01-20T10:30:21.332153",
     "exception": false,
     "start_time": "2021-01-20T10:30:21.319261",
     "status": "completed"
    },
    "tags": [
     "injected-parameters"
    ]
   },
   "outputs": [],
   "source": [
    "# Parameters\n",
    "filepath = \"/tmp/avocado.csv\"\n",
    "n_estimators = 150\n",
    "max_features = \"auto\"\n",
    "ml_id = \"auto_150\"\n"
   ]
  },
  {
   "cell_type": "code",
   "execution_count": 5,
   "metadata": {
    "_uuid": "55d0e719eb8b91d763c1eacaf0f51ee0586486fc",
    "execution": {
     "iopub.execute_input": "2021-01-20T10:30:21.347205Z",
     "iopub.status.busy": "2021-01-20T10:30:21.346677Z",
     "iopub.status.idle": "2021-01-20T10:30:21.380105Z",
     "shell.execute_reply": "2021-01-20T10:30:21.380523Z"
    },
    "jupyter": {
     "source_hidden": true
    },
    "papermill": {
     "duration": 0.04221,
     "end_time": "2021-01-20T10:30:21.380674",
     "exception": false,
     "start_time": "2021-01-20T10:30:21.338464",
     "status": "completed"
    },
    "tags": []
   },
   "outputs": [],
   "source": [
    "df= pd.read_csv(filepath)"
   ]
  },
  {
   "cell_type": "markdown",
   "metadata": {
    "_uuid": "434e0457f550e2200424e5ec26162e1aa5904005",
    "papermill": {
     "duration": 0.006193,
     "end_time": "2021-01-20T10:30:21.393340",
     "exception": false,
     "start_time": "2021-01-20T10:30:21.387147",
     "status": "completed"
    },
    "tags": []
   },
   "source": [
    "The Feature \"Unnamed:0\" is just a representation of the indexes, so it's useless to keep it, lets remove it !"
   ]
  },
  {
   "cell_type": "code",
   "execution_count": 6,
   "metadata": {
    "_uuid": "9875398e37728dc3141fed4228be337a4735beb6",
    "execution": {
     "iopub.execute_input": "2021-01-20T10:30:21.407889Z",
     "iopub.status.busy": "2021-01-20T10:30:21.407385Z",
     "iopub.status.idle": "2021-01-20T10:30:21.412465Z",
     "shell.execute_reply": "2021-01-20T10:30:21.412962Z"
    },
    "jupyter": {
     "source_hidden": true
    },
    "papermill": {
     "duration": 0.013993,
     "end_time": "2021-01-20T10:30:21.413119",
     "exception": false,
     "start_time": "2021-01-20T10:30:21.399126",
     "status": "completed"
    },
    "tags": []
   },
   "outputs": [],
   "source": [
    "df.drop('Unnamed: 0',axis=1,inplace=True)"
   ]
  },
  {
   "cell_type": "markdown",
   "metadata": {
    "_uuid": "12e94ad381e4cb8d2c8a9bbe08ce07ab5d49c040",
    "papermill": {
     "duration": 0.007422,
     "end_time": "2021-01-20T10:30:21.427501",
     "exception": false,
     "start_time": "2021-01-20T10:30:21.420079",
     "status": "completed"
    },
    "tags": []
   },
   "source": [
    "well as a first observation we can see that we are lucky, we dont have any missing values (18249 complete data) and 13 columns.\n",
    "Now let's do some Feature Engineering on the Date Feature so we can be able to use the day and the month columns in building our machine learning model later. ( I didn't mention the year because its already there in data frame)"
   ]
  },
  {
   "cell_type": "code",
   "execution_count": 7,
   "metadata": {
    "_uuid": "f031639ce794656e877484d1c9c356df7028177f",
    "execution": {
     "iopub.execute_input": "2021-01-20T10:30:21.444219Z",
     "iopub.status.busy": "2021-01-20T10:30:21.443539Z",
     "iopub.status.idle": "2021-01-20T10:30:21.588093Z",
     "shell.execute_reply": "2021-01-20T10:30:21.588522Z"
    },
    "jupyter": {
     "source_hidden": true
    },
    "papermill": {
     "duration": 0.155333,
     "end_time": "2021-01-20T10:30:21.588691",
     "exception": false,
     "start_time": "2021-01-20T10:30:21.433358",
     "status": "completed"
    },
    "tags": []
   },
   "outputs": [],
   "source": [
    "df['Date']=pd.to_datetime(df['Date'])\n",
    "df['Month']=df['Date'].apply(lambda x:x.month)\n",
    "df['Day']=df['Date'].apply(lambda x:x.day)"
   ]
  },
  {
   "cell_type": "markdown",
   "metadata": {
    "_uuid": "ebdcac9924ce3e366fd3a75170682f7113385b7a",
    "papermill": {
     "duration": 0.006216,
     "end_time": "2021-01-20T10:30:21.600804",
     "exception": false,
     "start_time": "2021-01-20T10:30:21.594588",
     "status": "completed"
    },
    "tags": []
   },
   "source": [
    "as we can see we have 54 regions and 2 unique types, so it's going to be easy to to transform the type feature to dummies, but for the region its going to be a bit complexe so I decided to drop the entire column.\n",
    "I will drop the Date Feature as well because I already have 3 other columns for the Year, Month and Day."
   ]
  },
  {
   "cell_type": "code",
   "execution_count": 8,
   "metadata": {
    "_uuid": "a798682da34327b731ef262985fd50ba68e06460",
    "execution": {
     "iopub.execute_input": "2021-01-20T10:30:21.616881Z",
     "iopub.status.busy": "2021-01-20T10:30:21.615883Z",
     "iopub.status.idle": "2021-01-20T10:30:21.627694Z",
     "shell.execute_reply": "2021-01-20T10:30:21.628227Z"
    },
    "jupyter": {
     "source_hidden": true
    },
    "papermill": {
     "duration": 0.021211,
     "end_time": "2021-01-20T10:30:21.628379",
     "exception": false,
     "start_time": "2021-01-20T10:30:21.607168",
     "status": "completed"
    },
    "tags": []
   },
   "outputs": [],
   "source": [
    "df_final=pd.get_dummies(df.drop(['region','Date'],axis=1),drop_first=True)"
   ]
  },
  {
   "cell_type": "markdown",
   "metadata": {
    "_uuid": "8b74a6b88cb3e9b3e1d1e987e061048f203c7364",
    "papermill": {
     "duration": 0.006209,
     "end_time": "2021-01-20T10:30:21.640440",
     "exception": false,
     "start_time": "2021-01-20T10:30:21.634231",
     "status": "completed"
    },
    "tags": []
   },
   "source": [
    "Now our data are ready! lets apply our model which is going to be the Linear Regression because our Target variable 'AveragePrice'is continuous.\n",
    "Let's now begin to train out regression model! We will need to first split up our data into an X array that contains the features to train on, and a y array with the target variable"
   ]
  },
  {
   "cell_type": "code",
   "execution_count": 9,
   "metadata": {
    "_uuid": "830591f99de9715241e688bf9ce265e979401ff5",
    "execution": {
     "iopub.execute_input": "2021-01-20T10:30:21.654736Z",
     "iopub.status.busy": "2021-01-20T10:30:21.654263Z",
     "iopub.status.idle": "2021-01-20T10:30:21.667583Z",
     "shell.execute_reply": "2021-01-20T10:30:21.668014Z"
    },
    "jupyter": {
     "source_hidden": true
    },
    "papermill": {
     "duration": 0.021546,
     "end_time": "2021-01-20T10:30:21.668170",
     "exception": false,
     "start_time": "2021-01-20T10:30:21.646624",
     "status": "completed"
    },
    "tags": []
   },
   "outputs": [],
   "source": [
    "X=df_final.iloc[:,1:14]\n",
    "y=df_final['AveragePrice']\n",
    "from sklearn.model_selection import train_test_split\n",
    "X_train,X_test,y_train,y_test=train_test_split(X,y,test_size=0.2,random_state=42)"
   ]
  },
  {
   "cell_type": "markdown",
   "metadata": {
    "_uuid": "ea730c77a31cde9de98263079a189accb8b5772b",
    "papermill": {
     "duration": 0.00588,
     "end_time": "2021-01-20T10:30:21.680501",
     "exception": false,
     "start_time": "2021-01-20T10:30:21.674621",
     "status": "completed"
    },
    "tags": []
   },
   "source": [
    "Creating and Training the Model"
   ]
  },
  {
   "cell_type": "code",
   "execution_count": 10,
   "metadata": {
    "_uuid": "eb37015e78974e5fd2ae7e13d065c8ab0a9c6948",
    "execution": {
     "iopub.execute_input": "2021-01-20T10:30:21.695722Z",
     "iopub.status.busy": "2021-01-20T10:30:21.695005Z",
     "iopub.status.idle": "2021-01-20T10:30:36.269925Z",
     "shell.execute_reply": "2021-01-20T10:30:36.269299Z"
    },
    "jupyter": {
     "source_hidden": true
    },
    "papermill": {
     "duration": 14.583386,
     "end_time": "2021-01-20T10:30:36.270056",
     "exception": false,
     "start_time": "2021-01-20T10:30:21.686670",
     "status": "completed"
    },
    "tags": []
   },
   "outputs": [],
   "source": [
    "from sklearn.ensemble import RandomForestRegressor\n",
    "rdr = RandomForestRegressor(\n",
    "    n_estimators=n_estimators,\n",
    "    max_features=max_features\n",
    ")\n",
    "rdr.fit(X_train,y_train)\n",
    "pred=rdr.predict(X_test)"
   ]
  },
  {
   "cell_type": "code",
   "execution_count": 11,
   "metadata": {
    "_uuid": "7ed5b8d4e8abb44a4b548c13ac9fb2d65227d1c5",
    "execution": {
     "iopub.execute_input": "2021-01-20T10:30:36.287266Z",
     "iopub.status.busy": "2021-01-20T10:30:36.286677Z",
     "iopub.status.idle": "2021-01-20T10:30:36.289249Z",
     "shell.execute_reply": "2021-01-20T10:30:36.289737Z"
    },
    "jupyter": {
     "source_hidden": true
    },
    "papermill": {
     "duration": 0.013176,
     "end_time": "2021-01-20T10:30:36.289884",
     "exception": false,
     "start_time": "2021-01-20T10:30:36.276708",
     "status": "completed"
    },
    "tags": []
   },
   "outputs": [],
   "source": [
    "#%%capture cap --no-stderr\n",
    "#print(np.sqrt(mean_squared_error(y_test, pred)))"
   ]
  },
  {
   "cell_type": "code",
   "execution_count": 12,
   "metadata": {
    "execution": {
     "iopub.execute_input": "2021-01-20T10:30:36.307634Z",
     "iopub.status.busy": "2021-01-20T10:30:36.307115Z",
     "iopub.status.idle": "2021-01-20T10:30:36.310534Z",
     "shell.execute_reply": "2021-01-20T10:30:36.309996Z"
    },
    "jupyter": {
     "source_hidden": true
    },
    "papermill": {
     "duration": 0.013936,
     "end_time": "2021-01-20T10:30:36.310663",
     "exception": false,
     "start_time": "2021-01-20T10:30:36.296727",
     "status": "completed"
    },
    "tags": []
   },
   "outputs": [],
   "source": [
    "#with open(output_rmse, 'w') as f:\n",
    "#    f.write(cap.stdout)"
   ]
  },
  {
   "cell_type": "code",
   "execution_count": 13,
   "metadata": {
    "execution": {
     "iopub.execute_input": "2021-01-20T10:30:36.329261Z",
     "iopub.status.busy": "2021-01-20T10:30:36.328681Z",
     "iopub.status.idle": "2021-01-20T10:30:36.348717Z",
     "shell.execute_reply": "2021-01-20T10:30:36.349152Z"
    },
    "jupyter": {
     "source_hidden": true
    },
    "papermill": {
     "duration": 0.032213,
     "end_time": "2021-01-20T10:30:36.349304",
     "exception": false,
     "start_time": "2021-01-20T10:30:36.317091",
     "status": "completed"
    },
    "tags": []
   },
   "outputs": [
    {
     "data": {
      "text/plain": [
       "<sqlalchemy.engine.result.ResultProxy at 0x7f0e2aba41d0>"
      ]
     },
     "execution_count": 13,
     "metadata": {},
     "output_type": "execute_result"
    }
   ],
   "source": [
    "cnx.execute(\"\"\"\n",
    "    INSERT INTO ml.accuracies (ml_id, ml_date, accuracy) VALUES ('{0}', '{1}', {2}) \n",
    "    ON CONFLICT (ml_id, ml_date) \n",
    "    DO\n",
    "        UPDATE SET accuracy = {2};\n",
    "    \"\"\".format(ml_id, ml_date, np.sqrt(mean_squared_error(y_test, pred))))"
   ]
  }
 ],
 "metadata": {
  "kernelspec": {
   "display_name": "Python 3",
   "language": "python",
   "name": "python3"
  },
  "language_info": {
   "codemirror_mode": {
    "name": "ipython",
    "version": 3
   },
   "file_extension": ".py",
   "mimetype": "text/x-python",
   "name": "python",
   "nbconvert_exporter": "python",
   "pygments_lexer": "ipython3",
   "version": "3.7.9"
  },
  "papermill": {
   "duration": 18.315182,
   "end_time": "2021-01-20T10:30:37.606757",
   "environment_variables": {},
   "exception": null,
   "input_path": "/usr/local/airflow/include/notebooks/avocado_prediction.ipynb",
   "output_path": "/tmp/out-model-avocado-prediction-auto_150.ipynb",
   "parameters": {
    "filepath": "/tmp/avocado.csv",
    "max_features": "auto",
    "ml_id": "auto_150",
    "n_estimators": 150
   },
   "start_time": "2021-01-20T10:30:19.291575",
   "version": "2.1.2"
  }
 },
 "nbformat": 4,
 "nbformat_minor": 4
}
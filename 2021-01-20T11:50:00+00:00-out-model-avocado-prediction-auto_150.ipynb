{
 "cells": [
  {
   "cell_type": "code",
   "execution_count": 1,
   "metadata": {
    "_cell_guid": "79c7e3d0-c299-4dcb-8224-4455121ee9b0",
    "_uuid": "d629ff2d2480ee46fbb7e2d37f6b5fab8052498a",
    "execution": {
     "iopub.execute_input": "2021-01-20T12:00:24.120115Z",
     "iopub.status.busy": "2021-01-20T12:00:24.119596Z",
     "iopub.status.idle": "2021-01-20T12:00:24.824468Z",
     "shell.execute_reply": "2021-01-20T12:00:24.823948Z"
    },
    "jupyter": {
     "source_hidden": true
    },
    "papermill": {
     "duration": 0.715577,
     "end_time": "2021-01-20T12:00:24.824640",
     "exception": false,
     "start_time": "2021-01-20T12:00:24.109063",
     "status": "completed"
    },
    "tags": []
   },
   "outputs": [],
   "source": [
    "import pandas as pd\n",
    "import numpy as np\n",
    "from sqlalchemy import create_engine\n",
    "from datetime import date\n",
    "from sklearn.metrics import mean_squared_error"
   ]
  },
  {
   "cell_type": "code",
   "execution_count": 2,
   "metadata": {
    "execution": {
     "iopub.execute_input": "2021-01-20T12:00:24.841149Z",
     "iopub.status.busy": "2021-01-20T12:00:24.840571Z",
     "iopub.status.idle": "2021-01-20T12:00:24.901861Z",
     "shell.execute_reply": "2021-01-20T12:00:24.901417Z"
    },
    "jupyter": {
     "source_hidden": true
    },
    "papermill": {
     "duration": 0.07181,
     "end_time": "2021-01-20T12:00:24.902035",
     "exception": false,
     "start_time": "2021-01-20T12:00:24.830225",
     "status": "completed"
    },
    "tags": []
   },
   "outputs": [],
   "source": [
    "# THIS IS PURELY FOR TEST PURPOSE NEVER DO THAT IN PRODUCTION\n",
    "POSTGRES_ADDRESS='postgres'\n",
    "POSTGRES_PORT='5432'\n",
    "POSTGRES_USERNAME='postgres'\n",
    "POSTGRES_PASSWORD='postgres'\n",
    "\n",
    "postgres_conn = 'postgresql://{0}:{1}@{2}:{3}/'.format(POSTGRES_USERNAME, POSTGRES_PASSWORD, POSTGRES_ADDRESS, POSTGRES_PORT)\n",
    "\n",
    "# Create the connection\n",
    "cnx = create_engine(postgres_conn)\n"
   ]
  },
  {
   "cell_type": "markdown",
   "metadata": {
    "_uuid": "1998755ef10683262b29765345cff1c1c7d10b15",
    "papermill": {
     "duration": 0.005158,
     "end_time": "2021-01-20T12:00:24.913289",
     "exception": false,
     "start_time": "2021-01-20T12:00:24.908131",
     "status": "completed"
    },
    "tags": []
   },
   "source": [
    "Read in the Avocado Prices csv file as a DataFrame called df"
   ]
  },
  {
   "cell_type": "code",
   "execution_count": 3,
   "metadata": {
    "execution": {
     "iopub.execute_input": "2021-01-20T12:00:24.927803Z",
     "iopub.status.busy": "2021-01-20T12:00:24.927347Z",
     "iopub.status.idle": "2021-01-20T12:00:24.931600Z",
     "shell.execute_reply": "2021-01-20T12:00:24.931122Z"
    },
    "jupyter": {
     "source_hidden": true
    },
    "papermill": {
     "duration": 0.013151,
     "end_time": "2021-01-20T12:00:24.931719",
     "exception": false,
     "start_time": "2021-01-20T12:00:24.918568",
     "status": "completed"
    },
    "tags": [
     "parameters"
    ]
   },
   "outputs": [],
   "source": [
    "# Parameterized\n",
    "\n",
    "filepath='avocado.csv'\n",
    "ml_id='auto_100'\n",
    "ml_date=date.today()\n",
    "n_estimators = 100\n",
    "max_features = 'auto'"
   ]
  },
  {
   "cell_type": "code",
   "execution_count": 4,
   "id": "distinct-blast",
   "metadata": {
    "execution": {
     "iopub.execute_input": "2021-01-20T12:00:24.952223Z",
     "iopub.status.busy": "2021-01-20T12:00:24.951088Z",
     "iopub.status.idle": "2021-01-20T12:00:24.953870Z",
     "shell.execute_reply": "2021-01-20T12:00:24.953413Z"
    },
    "jupyter": {
     "source_hidden": true
    },
    "papermill": {
     "duration": 0.012615,
     "end_time": "2021-01-20T12:00:24.954001",
     "exception": false,
     "start_time": "2021-01-20T12:00:24.941386",
     "status": "completed"
    },
    "tags": [
     "injected-parameters"
    ]
   },
   "outputs": [],
   "source": [
    "# Parameters\n",
    "filepath = \"/tmp/avocado.csv\"\n",
    "n_estimators = 150\n",
    "max_features = \"auto\"\n",
    "ml_id = \"auto_150\"\n"
   ]
  },
  {
   "cell_type": "code",
   "execution_count": 5,
   "metadata": {
    "_uuid": "55d0e719eb8b91d763c1eacaf0f51ee0586486fc",
    "execution": {
     "iopub.execute_input": "2021-01-20T12:00:24.969290Z",
     "iopub.status.busy": "2021-01-20T12:00:24.968667Z",
     "iopub.status.idle": "2021-01-20T12:00:24.998203Z",
     "shell.execute_reply": "2021-01-20T12:00:24.997719Z"
    },
    "jupyter": {
     "source_hidden": true
    },
    "papermill": {
     "duration": 0.038725,
     "end_time": "2021-01-20T12:00:24.998330",
     "exception": false,
     "start_time": "2021-01-20T12:00:24.959605",
     "status": "completed"
    },
    "tags": []
   },
   "outputs": [],
   "source": [
    "df= pd.read_csv(filepath)"
   ]
  },
  {
   "cell_type": "markdown",
   "metadata": {
    "_uuid": "434e0457f550e2200424e5ec26162e1aa5904005",
    "papermill": {
     "duration": 0.005968,
     "end_time": "2021-01-20T12:00:25.010041",
     "exception": false,
     "start_time": "2021-01-20T12:00:25.004073",
     "status": "completed"
    },
    "tags": []
   },
   "source": [
    "The Feature \"Unnamed:0\" is just a representation of the indexes, so it's useless to keep it, lets remove it !"
   ]
  },
  {
   "cell_type": "code",
   "execution_count": 6,
   "metadata": {
    "_uuid": "9875398e37728dc3141fed4228be337a4735beb6",
    "execution": {
     "iopub.execute_input": "2021-01-20T12:00:25.035361Z",
     "iopub.status.busy": "2021-01-20T12:00:25.034314Z",
     "iopub.status.idle": "2021-01-20T12:00:25.036696Z",
     "shell.execute_reply": "2021-01-20T12:00:25.036319Z"
    },
    "jupyter": {
     "source_hidden": true
    },
    "papermill": {
     "duration": 0.01448,
     "end_time": "2021-01-20T12:00:25.036847",
     "exception": false,
     "start_time": "2021-01-20T12:00:25.022367",
     "status": "completed"
    },
    "tags": []
   },
   "outputs": [],
   "source": [
    "df.drop('Unnamed: 0',axis=1,inplace=True)"
   ]
  },
  {
   "cell_type": "markdown",
   "metadata": {
    "_uuid": "12e94ad381e4cb8d2c8a9bbe08ce07ab5d49c040",
    "papermill": {
     "duration": 0.005759,
     "end_time": "2021-01-20T12:00:25.048509",
     "exception": false,
     "start_time": "2021-01-20T12:00:25.042750",
     "status": "completed"
    },
    "tags": []
   },
   "source": [
    "well as a first observation we can see that we are lucky, we dont have any missing values (18249 complete data) and 13 columns.\n",
    "Now let's do some Feature Engineering on the Date Feature so we can be able to use the day and the month columns in building our machine learning model later. ( I didn't mention the year because its already there in data frame)"
   ]
  },
  {
   "cell_type": "code",
   "execution_count": 7,
   "metadata": {
    "_uuid": "f031639ce794656e877484d1c9c356df7028177f",
    "execution": {
     "iopub.execute_input": "2021-01-20T12:00:25.066913Z",
     "iopub.status.busy": "2021-01-20T12:00:25.066442Z",
     "iopub.status.idle": "2021-01-20T12:00:25.195798Z",
     "shell.execute_reply": "2021-01-20T12:00:25.194102Z"
    },
    "jupyter": {
     "source_hidden": true
    },
    "papermill": {
     "duration": 0.141403,
     "end_time": "2021-01-20T12:00:25.195962",
     "exception": false,
     "start_time": "2021-01-20T12:00:25.054559",
     "status": "completed"
    },
    "tags": []
   },
   "outputs": [],
   "source": [
    "df['Date']=pd.to_datetime(df['Date'])\n",
    "df['Month']=df['Date'].apply(lambda x:x.month)\n",
    "df['Day']=df['Date'].apply(lambda x:x.day)"
   ]
  },
  {
   "cell_type": "markdown",
   "metadata": {
    "_uuid": "ebdcac9924ce3e366fd3a75170682f7113385b7a",
    "papermill": {
     "duration": 0.006166,
     "end_time": "2021-01-20T12:00:25.208581",
     "exception": false,
     "start_time": "2021-01-20T12:00:25.202415",
     "status": "completed"
    },
    "tags": []
   },
   "source": [
    "as we can see we have 54 regions and 2 unique types, so it's going to be easy to to transform the type feature to dummies, but for the region its going to be a bit complexe so I decided to drop the entire column.\n",
    "I will drop the Date Feature as well because I already have 3 other columns for the Year, Month and Day."
   ]
  },
  {
   "cell_type": "code",
   "execution_count": 8,
   "metadata": {
    "_uuid": "a798682da34327b731ef262985fd50ba68e06460",
    "execution": {
     "iopub.execute_input": "2021-01-20T12:00:25.224419Z",
     "iopub.status.busy": "2021-01-20T12:00:25.223963Z",
     "iopub.status.idle": "2021-01-20T12:00:25.234489Z",
     "shell.execute_reply": "2021-01-20T12:00:25.234055Z"
    },
    "jupyter": {
     "source_hidden": true
    },
    "papermill": {
     "duration": 0.020181,
     "end_time": "2021-01-20T12:00:25.234603",
     "exception": false,
     "start_time": "2021-01-20T12:00:25.214422",
     "status": "completed"
    },
    "tags": []
   },
   "outputs": [],
   "source": [
    "df_final=pd.get_dummies(df.drop(['region','Date'],axis=1),drop_first=True)"
   ]
  },
  {
   "cell_type": "markdown",
   "metadata": {
    "_uuid": "8b74a6b88cb3e9b3e1d1e987e061048f203c7364",
    "papermill": {
     "duration": 0.006392,
     "end_time": "2021-01-20T12:00:25.246630",
     "exception": false,
     "start_time": "2021-01-20T12:00:25.240238",
     "status": "completed"
    },
    "tags": []
   },
   "source": [
    "Now our data are ready! lets apply our model which is going to be the Linear Regression because our Target variable 'AveragePrice'is continuous.\n",
    "Let's now begin to train out regression model! We will need to first split up our data into an X array that contains the features to train on, and a y array with the target variable"
   ]
  },
  {
   "cell_type": "code",
   "execution_count": 9,
   "metadata": {
    "_uuid": "830591f99de9715241e688bf9ce265e979401ff5",
    "execution": {
     "iopub.execute_input": "2021-01-20T12:00:25.269149Z",
     "iopub.status.busy": "2021-01-20T12:00:25.268686Z",
     "iopub.status.idle": "2021-01-20T12:00:25.279267Z",
     "shell.execute_reply": "2021-01-20T12:00:25.278734Z"
    },
    "jupyter": {
     "source_hidden": true
    },
    "papermill": {
     "duration": 0.021496,
     "end_time": "2021-01-20T12:00:25.279430",
     "exception": false,
     "start_time": "2021-01-20T12:00:25.257934",
     "status": "completed"
    },
    "tags": []
   },
   "outputs": [],
   "source": [
    "X=df_final.iloc[:,1:14]\n",
    "y=df_final['AveragePrice']\n",
    "from sklearn.model_selection import train_test_split\n",
    "X_train,X_test,y_train,y_test=train_test_split(X,y,test_size=0.2,random_state=42)"
   ]
  },
  {
   "cell_type": "markdown",
   "metadata": {
    "_uuid": "ea730c77a31cde9de98263079a189accb8b5772b",
    "papermill": {
     "duration": 0.006129,
     "end_time": "2021-01-20T12:00:25.291401",
     "exception": false,
     "start_time": "2021-01-20T12:00:25.285272",
     "status": "completed"
    },
    "tags": []
   },
   "source": [
    "Creating and Training the Model"
   ]
  },
  {
   "cell_type": "code",
   "execution_count": 10,
   "metadata": {
    "_uuid": "eb37015e78974e5fd2ae7e13d065c8ab0a9c6948",
    "execution": {
     "iopub.execute_input": "2021-01-20T12:00:25.307674Z",
     "iopub.status.busy": "2021-01-20T12:00:25.307245Z",
     "iopub.status.idle": "2021-01-20T12:00:38.000848Z",
     "shell.execute_reply": "2021-01-20T12:00:38.000292Z"
    },
    "jupyter": {
     "source_hidden": true
    },
    "papermill": {
     "duration": 12.703107,
     "end_time": "2021-01-20T12:00:38.000961",
     "exception": false,
     "start_time": "2021-01-20T12:00:25.297854",
     "status": "completed"
    },
    "tags": []
   },
   "outputs": [],
   "source": [
    "from sklearn.ensemble import RandomForestRegressor\n",
    "rdr = RandomForestRegressor(\n",
    "    n_estimators=n_estimators,\n",
    "    max_features=max_features\n",
    ")\n",
    "rdr.fit(X_train,y_train)\n",
    "pred=rdr.predict(X_test)"
   ]
  },
  {
   "cell_type": "code",
   "execution_count": 11,
   "metadata": {
    "_uuid": "7ed5b8d4e8abb44a4b548c13ac9fb2d65227d1c5",
    "execution": {
     "iopub.execute_input": "2021-01-20T12:00:38.015330Z",
     "iopub.status.busy": "2021-01-20T12:00:38.014865Z",
     "iopub.status.idle": "2021-01-20T12:00:38.018889Z",
     "shell.execute_reply": "2021-01-20T12:00:38.018453Z"
    },
    "jupyter": {
     "source_hidden": true
    },
    "papermill": {
     "duration": 0.012466,
     "end_time": "2021-01-20T12:00:38.019012",
     "exception": false,
     "start_time": "2021-01-20T12:00:38.006546",
     "status": "completed"
    },
    "tags": []
   },
   "outputs": [],
   "source": [
    "#%%capture cap --no-stderr\n",
    "#print(np.sqrt(mean_squared_error(y_test, pred)))"
   ]
  },
  {
   "cell_type": "code",
   "execution_count": 12,
   "metadata": {
    "execution": {
     "iopub.execute_input": "2021-01-20T12:00:38.033854Z",
     "iopub.status.busy": "2021-01-20T12:00:38.033421Z",
     "iopub.status.idle": "2021-01-20T12:00:38.035858Z",
     "shell.execute_reply": "2021-01-20T12:00:38.036238Z"
    },
    "jupyter": {
     "source_hidden": true
    },
    "papermill": {
     "duration": 0.011638,
     "end_time": "2021-01-20T12:00:38.036375",
     "exception": false,
     "start_time": "2021-01-20T12:00:38.024737",
     "status": "completed"
    },
    "tags": []
   },
   "outputs": [],
   "source": [
    "#with open(output_rmse, 'w') as f:\n",
    "#    f.write(cap.stdout)"
   ]
  },
  {
   "cell_type": "code",
   "execution_count": 13,
   "metadata": {
    "execution": {
     "iopub.execute_input": "2021-01-20T12:00:38.052970Z",
     "iopub.status.busy": "2021-01-20T12:00:38.052436Z",
     "iopub.status.idle": "2021-01-20T12:00:38.071557Z",
     "shell.execute_reply": "2021-01-20T12:00:38.071162Z"
    },
    "jupyter": {
     "source_hidden": true
    },
    "papermill": {
     "duration": 0.029676,
     "end_time": "2021-01-20T12:00:38.071673",
     "exception": false,
     "start_time": "2021-01-20T12:00:38.041997",
     "status": "completed"
    },
    "tags": []
   },
   "outputs": [
    {
     "data": {
      "text/plain": [
       "<sqlalchemy.engine.result.ResultProxy at 0x7f9ff5e6a550>"
      ]
     },
     "execution_count": 13,
     "metadata": {},
     "output_type": "execute_result"
    }
   ],
   "source": [
    "cnx.execute(\"\"\"\n",
    "    INSERT INTO ml.accuracies (ml_id, ml_date, accuracy) VALUES ('{0}', '{1}', {2}) \n",
    "    ON CONFLICT (ml_id, ml_date) \n",
    "    DO\n",
    "        UPDATE SET accuracy = {2};\n",
    "    \"\"\".format(ml_id, ml_date, np.sqrt(mean_squared_error(y_test, pred))))"
   ]
  }
 ],
 "metadata": {
  "kernelspec": {
   "display_name": "Python 3",
   "language": "python",
   "name": "python3"
  },
  "language_info": {
   "codemirror_mode": {
    "name": "ipython",
    "version": 3
   },
   "file_extension": ".py",
   "mimetype": "text/x-python",
   "name": "python",
   "nbconvert_exporter": "python",
   "pygments_lexer": "ipython3",
   "version": "3.7.9"
  },
  "papermill": {
   "duration": 16.327953,
   "end_time": "2021-01-20T12:00:39.290364",
   "environment_variables": {},
   "exception": null,
   "input_path": "/usr/local/airflow/include/notebooks/avocado_prediction.ipynb",
   "output_path": "/tmp/out-model-avocado-prediction-auto_150.ipynb",
   "parameters": {
    "filepath": "/tmp/avocado.csv",
    "max_features": "auto",
    "ml_id": "auto_150",
    "n_estimators": 150
   },
   "start_time": "2021-01-20T12:00:22.962411",
   "version": "2.1.2"
  }
 },
 "nbformat": 4,
 "nbformat_minor": 4
}
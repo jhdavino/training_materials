{
 "cells": [
  {
   "cell_type": "code",
   "execution_count": 1,
   "metadata": {
    "_cell_guid": "79c7e3d0-c299-4dcb-8224-4455121ee9b0",
    "_uuid": "d629ff2d2480ee46fbb7e2d37f6b5fab8052498a",
    "execution": {
     "iopub.execute_input": "2021-01-18T11:28:25.194488Z",
     "iopub.status.busy": "2021-01-18T11:28:25.193247Z",
     "iopub.status.idle": "2021-01-18T11:28:25.928642Z",
     "shell.execute_reply": "2021-01-18T11:28:25.929185Z"
    },
    "jupyter": {
     "source_hidden": true
    },
    "papermill": {
     "duration": 0.76296,
     "end_time": "2021-01-18T11:28:25.929544",
     "exception": false,
     "start_time": "2021-01-18T11:28:25.166584",
     "status": "completed"
    },
    "tags": []
   },
   "outputs": [],
   "source": [
    "import pandas as pd\n",
    "import numpy as np\n",
    "from sqlalchemy import create_engine\n",
    "from datetime import date\n",
    "from sklearn.metrics import mean_squared_error"
   ]
  },
  {
   "cell_type": "code",
   "execution_count": 2,
   "metadata": {
    "execution": {
     "iopub.execute_input": "2021-01-18T11:28:25.946504Z",
     "iopub.status.busy": "2021-01-18T11:28:25.945901Z",
     "iopub.status.idle": "2021-01-18T11:28:26.014428Z",
     "shell.execute_reply": "2021-01-18T11:28:26.015003Z"
    },
    "jupyter": {
     "source_hidden": true
    },
    "papermill": {
     "duration": 0.077768,
     "end_time": "2021-01-18T11:28:26.015272",
     "exception": false,
     "start_time": "2021-01-18T11:28:25.937504",
     "status": "completed"
    },
    "tags": []
   },
   "outputs": [],
   "source": [
    "# THIS IS PURELY FOR TEST PURPOSE NEVER DO THAT IN PRODUCTION\n",
    "POSTGRES_ADDRESS='postgres'\n",
    "POSTGRES_PORT='5432'\n",
    "POSTGRES_USERNAME='postgres'\n",
    "POSTGRES_PASSWORD='postgres'\n",
    "\n",
    "postgres_conn = 'postgresql://{0}:{1}@{2}:{3}/'.format(POSTGRES_USERNAME, POSTGRES_PASSWORD, POSTGRES_ADDRESS, POSTGRES_PORT)\n",
    "\n",
    "# Create the connection\n",
    "cnx = create_engine(postgres_conn)\n"
   ]
  },
  {
   "cell_type": "markdown",
   "metadata": {
    "_uuid": "1998755ef10683262b29765345cff1c1c7d10b15",
    "papermill": {
     "duration": 0.005952,
     "end_time": "2021-01-18T11:28:26.027438",
     "exception": false,
     "start_time": "2021-01-18T11:28:26.021486",
     "status": "completed"
    },
    "tags": []
   },
   "source": [
    "Read in the Avocado Prices csv file as a DataFrame called df"
   ]
  },
  {
   "cell_type": "code",
   "execution_count": 3,
   "metadata": {
    "execution": {
     "iopub.execute_input": "2021-01-18T11:28:26.043281Z",
     "iopub.status.busy": "2021-01-18T11:28:26.042651Z",
     "iopub.status.idle": "2021-01-18T11:28:26.047219Z",
     "shell.execute_reply": "2021-01-18T11:28:26.047654Z"
    },
    "jupyter": {
     "source_hidden": true
    },
    "papermill": {
     "duration": 0.014409,
     "end_time": "2021-01-18T11:28:26.047961",
     "exception": false,
     "start_time": "2021-01-18T11:28:26.033552",
     "status": "completed"
    },
    "tags": [
     "parameters"
    ]
   },
   "outputs": [],
   "source": [
    "# Parameterized\n",
    "\n",
    "filepath='avocado.csv'\n",
    "ml_id='auto_100'\n",
    "ml_date=date.today()\n",
    "n_estimators = 100\n",
    "max_features = 'auto'"
   ]
  },
  {
   "cell_type": "code",
   "execution_count": 4,
   "id": "stuffed-carroll",
   "metadata": {
    "execution": {
     "iopub.execute_input": "2021-01-18T11:28:26.064370Z",
     "iopub.status.busy": "2021-01-18T11:28:26.063672Z",
     "iopub.status.idle": "2021-01-18T11:28:26.067462Z",
     "shell.execute_reply": "2021-01-18T11:28:26.067878Z"
    },
    "jupyter": {
     "source_hidden": true
    },
    "papermill": {
     "duration": 0.012998,
     "end_time": "2021-01-18T11:28:26.068173",
     "exception": false,
     "start_time": "2021-01-18T11:28:26.055175",
     "status": "completed"
    },
    "tags": [
     "injected-parameters"
    ]
   },
   "outputs": [],
   "source": [
    "# Parameters\n",
    "filepath = \"/tmp/avocado.csv\"\n",
    "n_estimators = 150\n",
    "max_features = \"auto\"\n",
    "ml_id = \"auto_150\"\n"
   ]
  },
  {
   "cell_type": "code",
   "execution_count": 5,
   "metadata": {
    "_uuid": "55d0e719eb8b91d763c1eacaf0f51ee0586486fc",
    "execution": {
     "iopub.execute_input": "2021-01-18T11:28:26.082419Z",
     "iopub.status.busy": "2021-01-18T11:28:26.081778Z",
     "iopub.status.idle": "2021-01-18T11:28:26.115215Z",
     "shell.execute_reply": "2021-01-18T11:28:26.115940Z"
    },
    "jupyter": {
     "source_hidden": true
    },
    "papermill": {
     "duration": 0.042715,
     "end_time": "2021-01-18T11:28:26.116669",
     "exception": false,
     "start_time": "2021-01-18T11:28:26.073954",
     "status": "completed"
    },
    "tags": []
   },
   "outputs": [],
   "source": [
    "df= pd.read_csv(filepath)"
   ]
  },
  {
   "cell_type": "markdown",
   "metadata": {
    "_uuid": "434e0457f550e2200424e5ec26162e1aa5904005",
    "papermill": {
     "duration": 0.006218,
     "end_time": "2021-01-18T11:28:26.130071",
     "exception": false,
     "start_time": "2021-01-18T11:28:26.123853",
     "status": "completed"
    },
    "tags": []
   },
   "source": [
    "The Feature \"Unnamed:0\" is just a representation of the indexes, so it's useless to keep it, lets remove it !"
   ]
  },
  {
   "cell_type": "code",
   "execution_count": 6,
   "metadata": {
    "_uuid": "9875398e37728dc3141fed4228be337a4735beb6",
    "execution": {
     "iopub.execute_input": "2021-01-18T11:28:26.145405Z",
     "iopub.status.busy": "2021-01-18T11:28:26.144664Z",
     "iopub.status.idle": "2021-01-18T11:28:26.150754Z",
     "shell.execute_reply": "2021-01-18T11:28:26.151523Z"
    },
    "jupyter": {
     "source_hidden": true
    },
    "papermill": {
     "duration": 0.016013,
     "end_time": "2021-01-18T11:28:26.151763",
     "exception": false,
     "start_time": "2021-01-18T11:28:26.135750",
     "status": "completed"
    },
    "tags": []
   },
   "outputs": [],
   "source": [
    "df.drop('Unnamed: 0',axis=1,inplace=True)"
   ]
  },
  {
   "cell_type": "markdown",
   "metadata": {
    "_uuid": "12e94ad381e4cb8d2c8a9bbe08ce07ab5d49c040",
    "papermill": {
     "duration": 0.006672,
     "end_time": "2021-01-18T11:28:26.165187",
     "exception": false,
     "start_time": "2021-01-18T11:28:26.158515",
     "status": "completed"
    },
    "tags": []
   },
   "source": [
    "well as a first observation we can see that we are lucky, we dont have any missing values (18249 complete data) and 13 columns.\n",
    "Now let's do some Feature Engineering on the Date Feature so we can be able to use the day and the month columns in building our machine learning model later. ( I didn't mention the year because its already there in data frame)"
   ]
  },
  {
   "cell_type": "code",
   "execution_count": 7,
   "metadata": {
    "_uuid": "f031639ce794656e877484d1c9c356df7028177f",
    "execution": {
     "iopub.execute_input": "2021-01-18T11:28:26.196994Z",
     "iopub.status.busy": "2021-01-18T11:28:26.196287Z",
     "iopub.status.idle": "2021-01-18T11:28:26.321491Z",
     "shell.execute_reply": "2021-01-18T11:28:26.322000Z"
    },
    "jupyter": {
     "source_hidden": true
    },
    "papermill": {
     "duration": 0.150921,
     "end_time": "2021-01-18T11:28:26.322225",
     "exception": false,
     "start_time": "2021-01-18T11:28:26.171304",
     "status": "completed"
    },
    "tags": []
   },
   "outputs": [],
   "source": [
    "df['Date']=pd.to_datetime(df['Date'])\n",
    "df['Month']=df['Date'].apply(lambda x:x.month)\n",
    "df['Day']=df['Date'].apply(lambda x:x.day)"
   ]
  },
  {
   "cell_type": "markdown",
   "metadata": {
    "_uuid": "ebdcac9924ce3e366fd3a75170682f7113385b7a",
    "papermill": {
     "duration": 0.006096,
     "end_time": "2021-01-18T11:28:26.335697",
     "exception": false,
     "start_time": "2021-01-18T11:28:26.329601",
     "status": "completed"
    },
    "tags": []
   },
   "source": [
    "as we can see we have 54 regions and 2 unique types, so it's going to be easy to to transform the type feature to dummies, but for the region its going to be a bit complexe so I decided to drop the entire column.\n",
    "I will drop the Date Feature as well because I already have 3 other columns for the Year, Month and Day."
   ]
  },
  {
   "cell_type": "code",
   "execution_count": 8,
   "metadata": {
    "_uuid": "a798682da34327b731ef262985fd50ba68e06460",
    "execution": {
     "iopub.execute_input": "2021-01-18T11:28:26.355401Z",
     "iopub.status.busy": "2021-01-18T11:28:26.354597Z",
     "iopub.status.idle": "2021-01-18T11:28:26.370014Z",
     "shell.execute_reply": "2021-01-18T11:28:26.370618Z"
    },
    "jupyter": {
     "source_hidden": true
    },
    "papermill": {
     "duration": 0.028702,
     "end_time": "2021-01-18T11:28:26.370996",
     "exception": false,
     "start_time": "2021-01-18T11:28:26.342294",
     "status": "completed"
    },
    "tags": []
   },
   "outputs": [],
   "source": [
    "df_final=pd.get_dummies(df.drop(['region','Date'],axis=1),drop_first=True)"
   ]
  },
  {
   "cell_type": "markdown",
   "metadata": {
    "_uuid": "8b74a6b88cb3e9b3e1d1e987e061048f203c7364",
    "papermill": {
     "duration": 0.00782,
     "end_time": "2021-01-18T11:28:26.393447",
     "exception": false,
     "start_time": "2021-01-18T11:28:26.385627",
     "status": "completed"
    },
    "tags": []
   },
   "source": [
    "Now our data are ready! lets apply our model which is going to be the Linear Regression because our Target variable 'AveragePrice'is continuous.\n",
    "Let's now begin to train out regression model! We will need to first split up our data into an X array that contains the features to train on, and a y array with the target variable"
   ]
  },
  {
   "cell_type": "code",
   "execution_count": 9,
   "metadata": {
    "_uuid": "830591f99de9715241e688bf9ce265e979401ff5",
    "execution": {
     "iopub.execute_input": "2021-01-18T11:28:26.418118Z",
     "iopub.status.busy": "2021-01-18T11:28:26.417097Z",
     "iopub.status.idle": "2021-01-18T11:28:26.434193Z",
     "shell.execute_reply": "2021-01-18T11:28:26.433287Z"
    },
    "jupyter": {
     "source_hidden": true
    },
    "papermill": {
     "duration": 0.033035,
     "end_time": "2021-01-18T11:28:26.434476",
     "exception": false,
     "start_time": "2021-01-18T11:28:26.401441",
     "status": "completed"
    },
    "tags": []
   },
   "outputs": [],
   "source": [
    "X=df_final.iloc[:,1:14]\n",
    "y=df_final['AveragePrice']\n",
    "from sklearn.model_selection import train_test_split\n",
    "X_train,X_test,y_train,y_test=train_test_split(X,y,test_size=0.2,random_state=42)"
   ]
  },
  {
   "cell_type": "markdown",
   "metadata": {
    "_uuid": "ea730c77a31cde9de98263079a189accb8b5772b",
    "papermill": {
     "duration": 0.007694,
     "end_time": "2021-01-18T11:28:26.449256",
     "exception": false,
     "start_time": "2021-01-18T11:28:26.441562",
     "status": "completed"
    },
    "tags": []
   },
   "source": [
    "Creating and Training the Model"
   ]
  },
  {
   "cell_type": "code",
   "execution_count": 10,
   "metadata": {
    "_uuid": "eb37015e78974e5fd2ae7e13d065c8ab0a9c6948",
    "execution": {
     "iopub.execute_input": "2021-01-18T11:28:26.469742Z",
     "iopub.status.busy": "2021-01-18T11:28:26.468984Z",
     "iopub.status.idle": "2021-01-18T11:28:40.457224Z",
     "shell.execute_reply": "2021-01-18T11:28:40.457827Z"
    },
    "jupyter": {
     "source_hidden": true
    },
    "papermill": {
     "duration": 14.000728,
     "end_time": "2021-01-18T11:28:40.458093",
     "exception": false,
     "start_time": "2021-01-18T11:28:26.457365",
     "status": "completed"
    },
    "tags": []
   },
   "outputs": [],
   "source": [
    "from sklearn.ensemble import RandomForestRegressor\n",
    "rdr = RandomForestRegressor(\n",
    "    n_estimators=n_estimators,\n",
    "    max_features=max_features\n",
    ")\n",
    "rdr.fit(X_train,y_train)\n",
    "pred=rdr.predict(X_test)"
   ]
  },
  {
   "cell_type": "code",
   "execution_count": 11,
   "metadata": {
    "_uuid": "7ed5b8d4e8abb44a4b548c13ac9fb2d65227d1c5",
    "execution": {
     "iopub.execute_input": "2021-01-18T11:28:40.476766Z",
     "iopub.status.busy": "2021-01-18T11:28:40.476158Z",
     "iopub.status.idle": "2021-01-18T11:28:40.478605Z",
     "shell.execute_reply": "2021-01-18T11:28:40.479248Z"
    },
    "jupyter": {
     "source_hidden": true
    },
    "papermill": {
     "duration": 0.013406,
     "end_time": "2021-01-18T11:28:40.479494",
     "exception": false,
     "start_time": "2021-01-18T11:28:40.466088",
     "status": "completed"
    },
    "tags": []
   },
   "outputs": [],
   "source": [
    "#%%capture cap --no-stderr\n",
    "#print(np.sqrt(mean_squared_error(y_test, pred)))"
   ]
  },
  {
   "cell_type": "code",
   "execution_count": 12,
   "metadata": {
    "execution": {
     "iopub.execute_input": "2021-01-18T11:28:40.497289Z",
     "iopub.status.busy": "2021-01-18T11:28:40.496604Z",
     "iopub.status.idle": "2021-01-18T11:28:40.499517Z",
     "shell.execute_reply": "2021-01-18T11:28:40.498673Z"
    },
    "jupyter": {
     "source_hidden": true
    },
    "papermill": {
     "duration": 0.012922,
     "end_time": "2021-01-18T11:28:40.499762",
     "exception": false,
     "start_time": "2021-01-18T11:28:40.486840",
     "status": "completed"
    },
    "tags": []
   },
   "outputs": [],
   "source": [
    "#with open(output_rmse, 'w') as f:\n",
    "#    f.write(cap.stdout)"
   ]
  },
  {
   "cell_type": "code",
   "execution_count": 13,
   "metadata": {
    "execution": {
     "iopub.execute_input": "2021-01-18T11:28:40.519235Z",
     "iopub.status.busy": "2021-01-18T11:28:40.518542Z",
     "iopub.status.idle": "2021-01-18T11:28:40.540764Z",
     "shell.execute_reply": "2021-01-18T11:28:40.540167Z"
    },
    "jupyter": {
     "source_hidden": true
    },
    "papermill": {
     "duration": 0.033872,
     "end_time": "2021-01-18T11:28:40.541049",
     "exception": false,
     "start_time": "2021-01-18T11:28:40.507177",
     "status": "completed"
    },
    "tags": []
   },
   "outputs": [
    {
     "data": {
      "text/plain": [
       "<sqlalchemy.engine.result.ResultProxy at 0x7f026848fe10>"
      ]
     },
     "execution_count": 13,
     "metadata": {},
     "output_type": "execute_result"
    }
   ],
   "source": [
    "cnx.execute(\"\"\"\n",
    "    INSERT INTO ml.accuracies (ml_id, ml_date, accuracy) VALUES ('{0}', '{1}', {2}) \n",
    "    ON CONFLICT (ml_id, ml_date) \n",
    "    DO\n",
    "        UPDATE SET accuracy = {2};\n",
    "    \"\"\".format(ml_id, ml_date, np.sqrt(mean_squared_error(y_test, pred))))"
   ]
  }
 ],
 "metadata": {
  "kernelspec": {
   "display_name": "Python 3",
   "language": "python",
   "name": "python3"
  },
  "language_info": {
   "codemirror_mode": {
    "name": "ipython",
    "version": 3
   },
   "file_extension": ".py",
   "mimetype": "text/x-python",
   "name": "python",
   "nbconvert_exporter": "python",
   "pygments_lexer": "ipython3",
   "version": "3.7.9"
  },
  "papermill": {
   "duration": 17.071061,
   "end_time": "2021-01-18T11:28:40.956948",
   "environment_variables": {},
   "exception": null,
   "input_path": "/usr/local/airflow/include/notebooks/avocado_prediction.ipynb",
   "output_path": "/tmp/out-model-avocado-prediction-auto_150.ipynb",
   "parameters": {
    "filepath": "/tmp/avocado.csv",
    "max_features": "auto",
    "ml_id": "auto_150",
    "n_estimators": 150
   },
   "start_time": "2021-01-18T11:28:23.885887",
   "version": "2.1.2"
  }
 },
 "nbformat": 4,
 "nbformat_minor": 4
}
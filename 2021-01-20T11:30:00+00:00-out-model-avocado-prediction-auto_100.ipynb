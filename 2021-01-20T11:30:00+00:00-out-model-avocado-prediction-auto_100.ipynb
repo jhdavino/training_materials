{
 "cells": [
  {
   "cell_type": "code",
   "execution_count": 1,
   "metadata": {
    "_cell_guid": "79c7e3d0-c299-4dcb-8224-4455121ee9b0",
    "_uuid": "d629ff2d2480ee46fbb7e2d37f6b5fab8052498a",
    "execution": {
     "iopub.execute_input": "2021-01-20T11:40:40.160214Z",
     "iopub.status.busy": "2021-01-20T11:40:40.159696Z",
     "iopub.status.idle": "2021-01-20T11:40:40.860098Z",
     "shell.execute_reply": "2021-01-20T11:40:40.859499Z"
    },
    "jupyter": {
     "source_hidden": true
    },
    "papermill": {
     "duration": 0.710948,
     "end_time": "2021-01-20T11:40:40.860247",
     "exception": false,
     "start_time": "2021-01-20T11:40:40.149299",
     "status": "completed"
    },
    "tags": []
   },
   "outputs": [],
   "source": [
    "import pandas as pd\n",
    "import numpy as np\n",
    "from sqlalchemy import create_engine\n",
    "from datetime import date\n",
    "from sklearn.metrics import mean_squared_error"
   ]
  },
  {
   "cell_type": "code",
   "execution_count": 2,
   "metadata": {
    "execution": {
     "iopub.execute_input": "2021-01-20T11:40:40.874451Z",
     "iopub.status.busy": "2021-01-20T11:40:40.874056Z",
     "iopub.status.idle": "2021-01-20T11:40:40.928535Z",
     "shell.execute_reply": "2021-01-20T11:40:40.928127Z"
    },
    "jupyter": {
     "source_hidden": true
    },
    "papermill": {
     "duration": 0.062653,
     "end_time": "2021-01-20T11:40:40.928652",
     "exception": false,
     "start_time": "2021-01-20T11:40:40.865999",
     "status": "completed"
    },
    "tags": []
   },
   "outputs": [],
   "source": [
    "# THIS IS PURELY FOR TEST PURPOSE NEVER DO THAT IN PRODUCTION\n",
    "POSTGRES_ADDRESS='postgres'\n",
    "POSTGRES_PORT='5432'\n",
    "POSTGRES_USERNAME='postgres'\n",
    "POSTGRES_PASSWORD='postgres'\n",
    "\n",
    "postgres_conn = 'postgresql://{0}:{1}@{2}:{3}/'.format(POSTGRES_USERNAME, POSTGRES_PASSWORD, POSTGRES_ADDRESS, POSTGRES_PORT)\n",
    "\n",
    "# Create the connection\n",
    "cnx = create_engine(postgres_conn)\n"
   ]
  },
  {
   "cell_type": "markdown",
   "metadata": {
    "_uuid": "1998755ef10683262b29765345cff1c1c7d10b15",
    "papermill": {
     "duration": 0.004886,
     "end_time": "2021-01-20T11:40:40.939706",
     "exception": false,
     "start_time": "2021-01-20T11:40:40.934820",
     "status": "completed"
    },
    "tags": []
   },
   "source": [
    "Read in the Avocado Prices csv file as a DataFrame called df"
   ]
  },
  {
   "cell_type": "code",
   "execution_count": 3,
   "metadata": {
    "execution": {
     "iopub.execute_input": "2021-01-20T11:40:40.953382Z",
     "iopub.status.busy": "2021-01-20T11:40:40.952929Z",
     "iopub.status.idle": "2021-01-20T11:40:40.955517Z",
     "shell.execute_reply": "2021-01-20T11:40:40.955099Z"
    },
    "jupyter": {
     "source_hidden": true
    },
    "papermill": {
     "duration": 0.011144,
     "end_time": "2021-01-20T11:40:40.955622",
     "exception": false,
     "start_time": "2021-01-20T11:40:40.944478",
     "status": "completed"
    },
    "tags": [
     "parameters"
    ]
   },
   "outputs": [],
   "source": [
    "# Parameterized\n",
    "\n",
    "filepath='avocado.csv'\n",
    "ml_id='auto_100'\n",
    "ml_date=date.today()\n",
    "n_estimators = 100\n",
    "max_features = 'auto'"
   ]
  },
  {
   "cell_type": "code",
   "execution_count": 4,
   "id": "brilliant-aging",
   "metadata": {
    "execution": {
     "iopub.execute_input": "2021-01-20T11:40:40.969073Z",
     "iopub.status.busy": "2021-01-20T11:40:40.968593Z",
     "iopub.status.idle": "2021-01-20T11:40:40.971215Z",
     "shell.execute_reply": "2021-01-20T11:40:40.970823Z"
    },
    "jupyter": {
     "source_hidden": true
    },
    "papermill": {
     "duration": 0.010663,
     "end_time": "2021-01-20T11:40:40.971317",
     "exception": false,
     "start_time": "2021-01-20T11:40:40.960654",
     "status": "completed"
    },
    "tags": [
     "injected-parameters"
    ]
   },
   "outputs": [],
   "source": [
    "# Parameters\n",
    "filepath = \"/tmp/avocado.csv\"\n",
    "n_estimators = 100\n",
    "max_features = \"auto\"\n",
    "ml_id = \"auto_100\"\n"
   ]
  },
  {
   "cell_type": "code",
   "execution_count": 5,
   "metadata": {
    "_uuid": "55d0e719eb8b91d763c1eacaf0f51ee0586486fc",
    "execution": {
     "iopub.execute_input": "2021-01-20T11:40:40.985514Z",
     "iopub.status.busy": "2021-01-20T11:40:40.985076Z",
     "iopub.status.idle": "2021-01-20T11:40:41.010363Z",
     "shell.execute_reply": "2021-01-20T11:40:41.010032Z"
    },
    "jupyter": {
     "source_hidden": true
    },
    "papermill": {
     "duration": 0.033853,
     "end_time": "2021-01-20T11:40:41.010461",
     "exception": false,
     "start_time": "2021-01-20T11:40:40.976608",
     "status": "completed"
    },
    "tags": []
   },
   "outputs": [],
   "source": [
    "df= pd.read_csv(filepath)"
   ]
  },
  {
   "cell_type": "markdown",
   "metadata": {
    "_uuid": "434e0457f550e2200424e5ec26162e1aa5904005",
    "papermill": {
     "duration": 0.005353,
     "end_time": "2021-01-20T11:40:41.020372",
     "exception": false,
     "start_time": "2021-01-20T11:40:41.015019",
     "status": "completed"
    },
    "tags": []
   },
   "source": [
    "The Feature \"Unnamed:0\" is just a representation of the indexes, so it's useless to keep it, lets remove it !"
   ]
  },
  {
   "cell_type": "code",
   "execution_count": 6,
   "metadata": {
    "_uuid": "9875398e37728dc3141fed4228be337a4735beb6",
    "execution": {
     "iopub.execute_input": "2021-01-20T11:40:41.037887Z",
     "iopub.status.busy": "2021-01-20T11:40:41.036693Z",
     "iopub.status.idle": "2021-01-20T11:40:41.040970Z",
     "shell.execute_reply": "2021-01-20T11:40:41.040472Z"
    },
    "jupyter": {
     "source_hidden": true
    },
    "papermill": {
     "duration": 0.01588,
     "end_time": "2021-01-20T11:40:41.041074",
     "exception": false,
     "start_time": "2021-01-20T11:40:41.025194",
     "status": "completed"
    },
    "tags": []
   },
   "outputs": [],
   "source": [
    "df.drop('Unnamed: 0',axis=1,inplace=True)"
   ]
  },
  {
   "cell_type": "markdown",
   "metadata": {
    "_uuid": "12e94ad381e4cb8d2c8a9bbe08ce07ab5d49c040",
    "papermill": {
     "duration": 0.005349,
     "end_time": "2021-01-20T11:40:41.051717",
     "exception": false,
     "start_time": "2021-01-20T11:40:41.046368",
     "status": "completed"
    },
    "tags": []
   },
   "source": [
    "well as a first observation we can see that we are lucky, we dont have any missing values (18249 complete data) and 13 columns.\n",
    "Now let's do some Feature Engineering on the Date Feature so we can be able to use the day and the month columns in building our machine learning model later. ( I didn't mention the year because its already there in data frame)"
   ]
  },
  {
   "cell_type": "code",
   "execution_count": 7,
   "metadata": {
    "_uuid": "f031639ce794656e877484d1c9c356df7028177f",
    "execution": {
     "iopub.execute_input": "2021-01-20T11:40:41.067099Z",
     "iopub.status.busy": "2021-01-20T11:40:41.066611Z",
     "iopub.status.idle": "2021-01-20T11:40:41.181960Z",
     "shell.execute_reply": "2021-01-20T11:40:41.181403Z"
    },
    "jupyter": {
     "source_hidden": true
    },
    "papermill": {
     "duration": 0.125582,
     "end_time": "2021-01-20T11:40:41.182105",
     "exception": false,
     "start_time": "2021-01-20T11:40:41.056523",
     "status": "completed"
    },
    "tags": []
   },
   "outputs": [],
   "source": [
    "df['Date']=pd.to_datetime(df['Date'])\n",
    "df['Month']=df['Date'].apply(lambda x:x.month)\n",
    "df['Day']=df['Date'].apply(lambda x:x.day)"
   ]
  },
  {
   "cell_type": "markdown",
   "metadata": {
    "_uuid": "ebdcac9924ce3e366fd3a75170682f7113385b7a",
    "papermill": {
     "duration": 0.005392,
     "end_time": "2021-01-20T11:40:41.193167",
     "exception": false,
     "start_time": "2021-01-20T11:40:41.187775",
     "status": "completed"
    },
    "tags": []
   },
   "source": [
    "as we can see we have 54 regions and 2 unique types, so it's going to be easy to to transform the type feature to dummies, but for the region its going to be a bit complexe so I decided to drop the entire column.\n",
    "I will drop the Date Feature as well because I already have 3 other columns for the Year, Month and Day."
   ]
  },
  {
   "cell_type": "code",
   "execution_count": 8,
   "metadata": {
    "_uuid": "a798682da34327b731ef262985fd50ba68e06460",
    "execution": {
     "iopub.execute_input": "2021-01-20T11:40:41.208235Z",
     "iopub.status.busy": "2021-01-20T11:40:41.207777Z",
     "iopub.status.idle": "2021-01-20T11:40:41.217062Z",
     "shell.execute_reply": "2021-01-20T11:40:41.216630Z"
    },
    "jupyter": {
     "source_hidden": true
    },
    "papermill": {
     "duration": 0.018563,
     "end_time": "2021-01-20T11:40:41.217180",
     "exception": false,
     "start_time": "2021-01-20T11:40:41.198617",
     "status": "completed"
    },
    "tags": []
   },
   "outputs": [],
   "source": [
    "df_final=pd.get_dummies(df.drop(['region','Date'],axis=1),drop_first=True)"
   ]
  },
  {
   "cell_type": "markdown",
   "metadata": {
    "_uuid": "8b74a6b88cb3e9b3e1d1e987e061048f203c7364",
    "papermill": {
     "duration": 0.005496,
     "end_time": "2021-01-20T11:40:41.228129",
     "exception": false,
     "start_time": "2021-01-20T11:40:41.222633",
     "status": "completed"
    },
    "tags": []
   },
   "source": [
    "Now our data are ready! lets apply our model which is going to be the Linear Regression because our Target variable 'AveragePrice'is continuous.\n",
    "Let's now begin to train out regression model! We will need to first split up our data into an X array that contains the features to train on, and a y array with the target variable"
   ]
  },
  {
   "cell_type": "code",
   "execution_count": 9,
   "metadata": {
    "_uuid": "830591f99de9715241e688bf9ce265e979401ff5",
    "execution": {
     "iopub.execute_input": "2021-01-20T11:40:41.244772Z",
     "iopub.status.busy": "2021-01-20T11:40:41.244291Z",
     "iopub.status.idle": "2021-01-20T11:40:41.254100Z",
     "shell.execute_reply": "2021-01-20T11:40:41.253653Z"
    },
    "jupyter": {
     "source_hidden": true
    },
    "papermill": {
     "duration": 0.020793,
     "end_time": "2021-01-20T11:40:41.254219",
     "exception": false,
     "start_time": "2021-01-20T11:40:41.233426",
     "status": "completed"
    },
    "tags": []
   },
   "outputs": [],
   "source": [
    "X=df_final.iloc[:,1:14]\n",
    "y=df_final['AveragePrice']\n",
    "from sklearn.model_selection import train_test_split\n",
    "X_train,X_test,y_train,y_test=train_test_split(X,y,test_size=0.2,random_state=42)"
   ]
  },
  {
   "cell_type": "markdown",
   "metadata": {
    "_uuid": "ea730c77a31cde9de98263079a189accb8b5772b",
    "papermill": {
     "duration": 0.005735,
     "end_time": "2021-01-20T11:40:41.265767",
     "exception": false,
     "start_time": "2021-01-20T11:40:41.260032",
     "status": "completed"
    },
    "tags": []
   },
   "source": [
    "Creating and Training the Model"
   ]
  },
  {
   "cell_type": "code",
   "execution_count": 10,
   "metadata": {
    "_uuid": "eb37015e78974e5fd2ae7e13d065c8ab0a9c6948",
    "execution": {
     "iopub.execute_input": "2021-01-20T11:40:41.281465Z",
     "iopub.status.busy": "2021-01-20T11:40:41.280989Z",
     "iopub.status.idle": "2021-01-20T11:40:49.915316Z",
     "shell.execute_reply": "2021-01-20T11:40:49.914853Z"
    },
    "jupyter": {
     "source_hidden": true
    },
    "papermill": {
     "duration": 8.64407,
     "end_time": "2021-01-20T11:40:49.915435",
     "exception": false,
     "start_time": "2021-01-20T11:40:41.271365",
     "status": "completed"
    },
    "tags": []
   },
   "outputs": [],
   "source": [
    "from sklearn.ensemble import RandomForestRegressor\n",
    "rdr = RandomForestRegressor(\n",
    "    n_estimators=n_estimators,\n",
    "    max_features=max_features\n",
    ")\n",
    "rdr.fit(X_train,y_train)\n",
    "pred=rdr.predict(X_test)"
   ]
  },
  {
   "cell_type": "code",
   "execution_count": 11,
   "metadata": {
    "_uuid": "7ed5b8d4e8abb44a4b548c13ac9fb2d65227d1c5",
    "execution": {
     "iopub.execute_input": "2021-01-20T11:40:49.930441Z",
     "iopub.status.busy": "2021-01-20T11:40:49.929878Z",
     "iopub.status.idle": "2021-01-20T11:40:49.932694Z",
     "shell.execute_reply": "2021-01-20T11:40:49.933113Z"
    },
    "jupyter": {
     "source_hidden": true
    },
    "papermill": {
     "duration": 0.012202,
     "end_time": "2021-01-20T11:40:49.933278",
     "exception": false,
     "start_time": "2021-01-20T11:40:49.921076",
     "status": "completed"
    },
    "tags": []
   },
   "outputs": [],
   "source": [
    "#%%capture cap --no-stderr\n",
    "#print(np.sqrt(mean_squared_error(y_test, pred)))"
   ]
  },
  {
   "cell_type": "code",
   "execution_count": 12,
   "metadata": {
    "execution": {
     "iopub.execute_input": "2021-01-20T11:40:49.950597Z",
     "iopub.status.busy": "2021-01-20T11:40:49.950076Z",
     "iopub.status.idle": "2021-01-20T11:40:49.952561Z",
     "shell.execute_reply": "2021-01-20T11:40:49.952910Z"
    },
    "jupyter": {
     "source_hidden": true
    },
    "papermill": {
     "duration": 0.012618,
     "end_time": "2021-01-20T11:40:49.953051",
     "exception": false,
     "start_time": "2021-01-20T11:40:49.940433",
     "status": "completed"
    },
    "tags": []
   },
   "outputs": [],
   "source": [
    "#with open(output_rmse, 'w') as f:\n",
    "#    f.write(cap.stdout)"
   ]
  },
  {
   "cell_type": "code",
   "execution_count": 13,
   "metadata": {
    "execution": {
     "iopub.execute_input": "2021-01-20T11:40:49.969000Z",
     "iopub.status.busy": "2021-01-20T11:40:49.968538Z",
     "iopub.status.idle": "2021-01-20T11:40:49.987985Z",
     "shell.execute_reply": "2021-01-20T11:40:49.987493Z"
    },
    "jupyter": {
     "source_hidden": true
    },
    "papermill": {
     "duration": 0.02941,
     "end_time": "2021-01-20T11:40:49.988099",
     "exception": false,
     "start_time": "2021-01-20T11:40:49.958689",
     "status": "completed"
    },
    "tags": []
   },
   "outputs": [
    {
     "data": {
      "text/plain": [
       "<sqlalchemy.engine.result.ResultProxy at 0x7f74f393ed50>"
      ]
     },
     "execution_count": 13,
     "metadata": {},
     "output_type": "execute_result"
    }
   ],
   "source": [
    "cnx.execute(\"\"\"\n",
    "    INSERT INTO ml.accuracies (ml_id, ml_date, accuracy) VALUES ('{0}', '{1}', {2}) \n",
    "    ON CONFLICT (ml_id, ml_date) \n",
    "    DO\n",
    "        UPDATE SET accuracy = {2};\n",
    "    \"\"\".format(ml_id, ml_date, np.sqrt(mean_squared_error(y_test, pred))))"
   ]
  }
 ],
 "metadata": {
  "kernelspec": {
   "display_name": "Python 3",
   "language": "python",
   "name": "python3"
  },
  "language_info": {
   "codemirror_mode": {
    "name": "ipython",
    "version": 3
   },
   "file_extension": ".py",
   "mimetype": "text/x-python",
   "name": "python",
   "nbconvert_exporter": "python",
   "pygments_lexer": "ipython3",
   "version": "3.7.9"
  },
  "papermill": {
   "duration": 12.287837,
   "end_time": "2021-01-20T11:40:51.388160",
   "environment_variables": {},
   "exception": null,
   "input_path": "/usr/local/airflow/include/notebooks/avocado_prediction.ipynb",
   "output_path": "/tmp/out-model-avocado-prediction-auto_100.ipynb",
   "parameters": {
    "filepath": "/tmp/avocado.csv",
    "max_features": "auto",
    "ml_id": "auto_100",
    "n_estimators": 100
   },
   "start_time": "2021-01-20T11:40:39.100323",
   "version": "2.1.2"
  }
 },
 "nbformat": 4,
 "nbformat_minor": 4
}
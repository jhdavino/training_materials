{
 "cells": [
  {
   "cell_type": "code",
   "execution_count": 1,
   "metadata": {
    "_cell_guid": "79c7e3d0-c299-4dcb-8224-4455121ee9b0",
    "_uuid": "d629ff2d2480ee46fbb7e2d37f6b5fab8052498a",
    "execution": {
     "iopub.execute_input": "2021-01-21T12:50:57.837501Z",
     "iopub.status.busy": "2021-01-21T12:50:57.837104Z",
     "iopub.status.idle": "2021-01-21T12:50:58.631103Z",
     "shell.execute_reply": "2021-01-21T12:50:58.631627Z"
    },
    "jupyter": {
     "source_hidden": true
    },
    "papermill": {
     "duration": 0.803492,
     "end_time": "2021-01-21T12:50:58.632122",
     "exception": false,
     "start_time": "2021-01-21T12:50:57.828630",
     "status": "completed"
    },
    "tags": []
   },
   "outputs": [],
   "source": [
    "import pandas as pd\n",
    "import numpy as np\n",
    "from sqlalchemy import create_engine\n",
    "from datetime import date\n",
    "from sklearn.metrics import mean_squared_error"
   ]
  },
  {
   "cell_type": "code",
   "execution_count": 2,
   "metadata": {
    "execution": {
     "iopub.execute_input": "2021-01-21T12:50:58.651084Z",
     "iopub.status.busy": "2021-01-21T12:50:58.650376Z",
     "iopub.status.idle": "2021-01-21T12:50:58.709171Z",
     "shell.execute_reply": "2021-01-21T12:50:58.708665Z"
    },
    "jupyter": {
     "source_hidden": true
    },
    "papermill": {
     "duration": 0.070369,
     "end_time": "2021-01-21T12:50:58.709296",
     "exception": false,
     "start_time": "2021-01-21T12:50:58.638927",
     "status": "completed"
    },
    "tags": []
   },
   "outputs": [],
   "source": [
    "# THIS IS PURELY FOR TEST PURPOSE NEVER DO THAT IN PRODUCTION\n",
    "POSTGRES_ADDRESS='postgres'\n",
    "POSTGRES_PORT='5432'\n",
    "POSTGRES_USERNAME='postgres'\n",
    "POSTGRES_PASSWORD='postgres'\n",
    "\n",
    "postgres_conn = 'postgresql://{0}:{1}@{2}:{3}/'.format(POSTGRES_USERNAME, POSTGRES_PASSWORD, POSTGRES_ADDRESS, POSTGRES_PORT)\n",
    "\n",
    "# Create the connection\n",
    "cnx = create_engine(postgres_conn)\n"
   ]
  },
  {
   "cell_type": "markdown",
   "metadata": {
    "_uuid": "1998755ef10683262b29765345cff1c1c7d10b15",
    "papermill": {
     "duration": 0.005416,
     "end_time": "2021-01-21T12:50:58.721421",
     "exception": false,
     "start_time": "2021-01-21T12:50:58.716005",
     "status": "completed"
    },
    "tags": []
   },
   "source": [
    "Read in the Avocado Prices csv file as a DataFrame called df"
   ]
  },
  {
   "cell_type": "code",
   "execution_count": 3,
   "metadata": {
    "execution": {
     "iopub.execute_input": "2021-01-21T12:50:58.735999Z",
     "iopub.status.busy": "2021-01-21T12:50:58.735492Z",
     "iopub.status.idle": "2021-01-21T12:50:58.737961Z",
     "shell.execute_reply": "2021-01-21T12:50:58.737546Z"
    },
    "jupyter": {
     "source_hidden": true
    },
    "papermill": {
     "duration": 0.011557,
     "end_time": "2021-01-21T12:50:58.738077",
     "exception": false,
     "start_time": "2021-01-21T12:50:58.726520",
     "status": "completed"
    },
    "tags": [
     "parameters"
    ]
   },
   "outputs": [],
   "source": [
    "# Parameterized\n",
    "\n",
    "filepath='avocado.csv'\n",
    "ml_id='auto_100'\n",
    "ml_date=date.today()\n",
    "n_estimators = 100\n",
    "max_features = 'auto'"
   ]
  },
  {
   "cell_type": "code",
   "execution_count": 4,
   "id": "alternate-relay",
   "metadata": {
    "execution": {
     "iopub.execute_input": "2021-01-21T12:50:58.755548Z",
     "iopub.status.busy": "2021-01-21T12:50:58.754382Z",
     "iopub.status.idle": "2021-01-21T12:50:58.758074Z",
     "shell.execute_reply": "2021-01-21T12:50:58.757577Z"
    },
    "jupyter": {
     "source_hidden": true
    },
    "papermill": {
     "duration": 0.014596,
     "end_time": "2021-01-21T12:50:58.758197",
     "exception": false,
     "start_time": "2021-01-21T12:50:58.743601",
     "status": "completed"
    },
    "tags": [
     "injected-parameters"
    ]
   },
   "outputs": [],
   "source": [
    "# Parameters\n",
    "filepath = \"/tmp/avocado.csv\"\n",
    "n_estimators = 100\n",
    "max_features = \"auto\"\n",
    "ml_id = \"auto_100\"\n"
   ]
  },
  {
   "cell_type": "code",
   "execution_count": 5,
   "metadata": {
    "_uuid": "55d0e719eb8b91d763c1eacaf0f51ee0586486fc",
    "execution": {
     "iopub.execute_input": "2021-01-21T12:50:58.775791Z",
     "iopub.status.busy": "2021-01-21T12:50:58.775327Z",
     "iopub.status.idle": "2021-01-21T12:50:58.802700Z",
     "shell.execute_reply": "2021-01-21T12:50:58.802220Z"
    },
    "jupyter": {
     "source_hidden": true
    },
    "papermill": {
     "duration": 0.038565,
     "end_time": "2021-01-21T12:50:58.802875",
     "exception": false,
     "start_time": "2021-01-21T12:50:58.764310",
     "status": "completed"
    },
    "tags": []
   },
   "outputs": [],
   "source": [
    "df= pd.read_csv(filepath)"
   ]
  },
  {
   "cell_type": "markdown",
   "metadata": {
    "_uuid": "434e0457f550e2200424e5ec26162e1aa5904005",
    "papermill": {
     "duration": 0.005767,
     "end_time": "2021-01-21T12:50:58.815832",
     "exception": false,
     "start_time": "2021-01-21T12:50:58.810065",
     "status": "completed"
    },
    "tags": []
   },
   "source": [
    "The Feature \"Unnamed:0\" is just a representation of the indexes, so it's useless to keep it, lets remove it !"
   ]
  },
  {
   "cell_type": "code",
   "execution_count": 6,
   "metadata": {
    "_uuid": "9875398e37728dc3141fed4228be337a4735beb6",
    "execution": {
     "iopub.execute_input": "2021-01-21T12:50:58.834183Z",
     "iopub.status.busy": "2021-01-21T12:50:58.833045Z",
     "iopub.status.idle": "2021-01-21T12:50:58.837149Z",
     "shell.execute_reply": "2021-01-21T12:50:58.836551Z"
    },
    "jupyter": {
     "source_hidden": true
    },
    "papermill": {
     "duration": 0.015245,
     "end_time": "2021-01-21T12:50:58.837351",
     "exception": false,
     "start_time": "2021-01-21T12:50:58.822106",
     "status": "completed"
    },
    "tags": []
   },
   "outputs": [],
   "source": [
    "df.drop('Unnamed: 0',axis=1,inplace=True)"
   ]
  },
  {
   "cell_type": "markdown",
   "metadata": {
    "_uuid": "12e94ad381e4cb8d2c8a9bbe08ce07ab5d49c040",
    "papermill": {
     "duration": 0.007663,
     "end_time": "2021-01-21T12:50:58.850716",
     "exception": false,
     "start_time": "2021-01-21T12:50:58.843053",
     "status": "completed"
    },
    "tags": []
   },
   "source": [
    "well as a first observation we can see that we are lucky, we dont have any missing values (18249 complete data) and 13 columns.\n",
    "Now let's do some Feature Engineering on the Date Feature so we can be able to use the day and the month columns in building our machine learning model later. ( I didn't mention the year because its already there in data frame)"
   ]
  },
  {
   "cell_type": "code",
   "execution_count": 7,
   "metadata": {
    "_uuid": "f031639ce794656e877484d1c9c356df7028177f",
    "execution": {
     "iopub.execute_input": "2021-01-21T12:50:58.868279Z",
     "iopub.status.busy": "2021-01-21T12:50:58.867742Z",
     "iopub.status.idle": "2021-01-21T12:50:58.994498Z",
     "shell.execute_reply": "2021-01-21T12:50:58.993799Z"
    },
    "jupyter": {
     "source_hidden": true
    },
    "papermill": {
     "duration": 0.137512,
     "end_time": "2021-01-21T12:50:58.994672",
     "exception": false,
     "start_time": "2021-01-21T12:50:58.857160",
     "status": "completed"
    },
    "tags": []
   },
   "outputs": [],
   "source": [
    "df['Date']=pd.to_datetime(df['Date'])\n",
    "df['Month']=df['Date'].apply(lambda x:x.month)\n",
    "df['Day']=df['Date'].apply(lambda x:x.day)"
   ]
  },
  {
   "cell_type": "markdown",
   "metadata": {
    "_uuid": "ebdcac9924ce3e366fd3a75170682f7113385b7a",
    "papermill": {
     "duration": 0.005726,
     "end_time": "2021-01-21T12:50:59.007194",
     "exception": false,
     "start_time": "2021-01-21T12:50:59.001468",
     "status": "completed"
    },
    "tags": []
   },
   "source": [
    "as we can see we have 54 regions and 2 unique types, so it's going to be easy to to transform the type feature to dummies, but for the region its going to be a bit complexe so I decided to drop the entire column.\n",
    "I will drop the Date Feature as well because I already have 3 other columns for the Year, Month and Day."
   ]
  },
  {
   "cell_type": "code",
   "execution_count": 8,
   "metadata": {
    "_uuid": "a798682da34327b731ef262985fd50ba68e06460",
    "execution": {
     "iopub.execute_input": "2021-01-21T12:50:59.022850Z",
     "iopub.status.busy": "2021-01-21T12:50:59.022362Z",
     "iopub.status.idle": "2021-01-21T12:50:59.032001Z",
     "shell.execute_reply": "2021-01-21T12:50:59.031592Z"
    },
    "jupyter": {
     "source_hidden": true
    },
    "papermill": {
     "duration": 0.0194,
     "end_time": "2021-01-21T12:50:59.032155",
     "exception": false,
     "start_time": "2021-01-21T12:50:59.012755",
     "status": "completed"
    },
    "tags": []
   },
   "outputs": [],
   "source": [
    "df_final=pd.get_dummies(df.drop(['region','Date'],axis=1),drop_first=True)"
   ]
  },
  {
   "cell_type": "markdown",
   "metadata": {
    "_uuid": "8b74a6b88cb3e9b3e1d1e987e061048f203c7364",
    "papermill": {
     "duration": 0.005391,
     "end_time": "2021-01-21T12:50:59.042914",
     "exception": false,
     "start_time": "2021-01-21T12:50:59.037523",
     "status": "completed"
    },
    "tags": []
   },
   "source": [
    "Now our data are ready! lets apply our model which is going to be the Linear Regression because our Target variable 'AveragePrice'is continuous.\n",
    "Let's now begin to train out regression model! We will need to first split up our data into an X array that contains the features to train on, and a y array with the target variable"
   ]
  },
  {
   "cell_type": "code",
   "execution_count": 9,
   "metadata": {
    "_uuid": "830591f99de9715241e688bf9ce265e979401ff5",
    "execution": {
     "iopub.execute_input": "2021-01-21T12:50:59.060181Z",
     "iopub.status.busy": "2021-01-21T12:50:59.059545Z",
     "iopub.status.idle": "2021-01-21T12:50:59.069321Z",
     "shell.execute_reply": "2021-01-21T12:50:59.068882Z"
    },
    "jupyter": {
     "source_hidden": true
    },
    "papermill": {
     "duration": 0.021151,
     "end_time": "2021-01-21T12:50:59.069440",
     "exception": false,
     "start_time": "2021-01-21T12:50:59.048289",
     "status": "completed"
    },
    "tags": []
   },
   "outputs": [],
   "source": [
    "X=df_final.iloc[:,1:14]\n",
    "y=df_final['AveragePrice']\n",
    "from sklearn.model_selection import train_test_split\n",
    "X_train,X_test,y_train,y_test=train_test_split(X,y,test_size=0.2,random_state=42)"
   ]
  },
  {
   "cell_type": "markdown",
   "metadata": {
    "_uuid": "ea730c77a31cde9de98263079a189accb8b5772b",
    "papermill": {
     "duration": 0.005437,
     "end_time": "2021-01-21T12:50:59.083132",
     "exception": false,
     "start_time": "2021-01-21T12:50:59.077695",
     "status": "completed"
    },
    "tags": []
   },
   "source": [
    "Creating and Training the Model"
   ]
  },
  {
   "cell_type": "code",
   "execution_count": 10,
   "metadata": {
    "_uuid": "eb37015e78974e5fd2ae7e13d065c8ab0a9c6948",
    "execution": {
     "iopub.execute_input": "2021-01-21T12:50:59.100611Z",
     "iopub.status.busy": "2021-01-21T12:50:59.100154Z",
     "iopub.status.idle": "2021-01-21T12:51:07.796172Z",
     "shell.execute_reply": "2021-01-21T12:51:07.796529Z"
    },
    "jupyter": {
     "source_hidden": true
    },
    "papermill": {
     "duration": 8.707506,
     "end_time": "2021-01-21T12:51:07.796670",
     "exception": false,
     "start_time": "2021-01-21T12:50:59.089164",
     "status": "completed"
    },
    "tags": []
   },
   "outputs": [],
   "source": [
    "from sklearn.ensemble import RandomForestRegressor\n",
    "rdr = RandomForestRegressor(\n",
    "    n_estimators=n_estimators,\n",
    "    max_features=max_features\n",
    ")\n",
    "rdr.fit(X_train,y_train)\n",
    "pred=rdr.predict(X_test)"
   ]
  },
  {
   "cell_type": "code",
   "execution_count": 11,
   "metadata": {
    "_uuid": "7ed5b8d4e8abb44a4b548c13ac9fb2d65227d1c5",
    "execution": {
     "iopub.execute_input": "2021-01-21T12:51:07.811581Z",
     "iopub.status.busy": "2021-01-21T12:51:07.811128Z",
     "iopub.status.idle": "2021-01-21T12:51:07.813972Z",
     "shell.execute_reply": "2021-01-21T12:51:07.813408Z"
    },
    "jupyter": {
     "source_hidden": true
    },
    "papermill": {
     "duration": 0.011561,
     "end_time": "2021-01-21T12:51:07.814091",
     "exception": false,
     "start_time": "2021-01-21T12:51:07.802530",
     "status": "completed"
    },
    "tags": []
   },
   "outputs": [],
   "source": [
    "#%%capture cap --no-stderr\n",
    "#print(np.sqrt(mean_squared_error(y_test, pred)))"
   ]
  },
  {
   "cell_type": "code",
   "execution_count": 12,
   "metadata": {
    "execution": {
     "iopub.execute_input": "2021-01-21T12:51:07.829363Z",
     "iopub.status.busy": "2021-01-21T12:51:07.828858Z",
     "iopub.status.idle": "2021-01-21T12:51:07.831707Z",
     "shell.execute_reply": "2021-01-21T12:51:07.831331Z"
    },
    "jupyter": {
     "source_hidden": true
    },
    "papermill": {
     "duration": 0.011686,
     "end_time": "2021-01-21T12:51:07.831822",
     "exception": false,
     "start_time": "2021-01-21T12:51:07.820136",
     "status": "completed"
    },
    "tags": []
   },
   "outputs": [],
   "source": [
    "#with open(output_rmse, 'w') as f:\n",
    "#    f.write(cap.stdout)"
   ]
  },
  {
   "cell_type": "code",
   "execution_count": 13,
   "metadata": {
    "execution": {
     "iopub.execute_input": "2021-01-21T12:51:07.847823Z",
     "iopub.status.busy": "2021-01-21T12:51:07.847279Z",
     "iopub.status.idle": "2021-01-21T12:51:07.865797Z",
     "shell.execute_reply": "2021-01-21T12:51:07.865313Z"
    },
    "jupyter": {
     "source_hidden": true
    },
    "papermill": {
     "duration": 0.028511,
     "end_time": "2021-01-21T12:51:07.865916",
     "exception": false,
     "start_time": "2021-01-21T12:51:07.837405",
     "status": "completed"
    },
    "tags": []
   },
   "outputs": [
    {
     "data": {
      "text/plain": [
       "<sqlalchemy.engine.result.ResultProxy at 0x7f9d4c7c8ad0>"
      ]
     },
     "execution_count": 13,
     "metadata": {},
     "output_type": "execute_result"
    }
   ],
   "source": [
    "cnx.execute(\"\"\"\n",
    "    INSERT INTO ml.accuracies (ml_id, ml_date, accuracy) VALUES ('{0}', '{1}', {2}) \n",
    "    ON CONFLICT (ml_id, ml_date) \n",
    "    DO\n",
    "        UPDATE SET accuracy = {2};\n",
    "    \"\"\".format(ml_id, ml_date, np.sqrt(mean_squared_error(y_test, pred))))"
   ]
  }
 ],
 "metadata": {
  "kernelspec": {
   "display_name": "Python 3",
   "language": "python",
   "name": "python3"
  },
  "language_info": {
   "codemirror_mode": {
    "name": "ipython",
    "version": 3
   },
   "file_extension": ".py",
   "mimetype": "text/x-python",
   "name": "python",
   "nbconvert_exporter": "python",
   "pygments_lexer": "ipython3",
   "version": "3.7.9"
  },
  "papermill": {
   "duration": 12.297747,
   "end_time": "2021-01-21T12:51:09.069941",
   "environment_variables": {},
   "exception": null,
   "input_path": "/usr/local/airflow/include/notebooks/avocado_prediction.ipynb",
   "output_path": "/tmp/out-model-avocado-prediction-auto_100.ipynb",
   "parameters": {
    "filepath": "/tmp/avocado.csv",
    "max_features": "auto",
    "ml_id": "auto_100",
    "n_estimators": 100
   },
   "start_time": "2021-01-21T12:50:56.772194",
   "version": "2.1.2"
  }
 },
 "nbformat": 4,
 "nbformat_minor": 4
}
{
 "cells": [
  {
   "cell_type": "code",
   "execution_count": 1,
   "metadata": {
    "_cell_guid": "79c7e3d0-c299-4dcb-8224-4455121ee9b0",
    "_uuid": "d629ff2d2480ee46fbb7e2d37f6b5fab8052498a",
    "execution": {
     "iopub.execute_input": "2021-01-20T10:50:20.036851Z",
     "iopub.status.busy": "2021-01-20T10:50:20.036211Z",
     "iopub.status.idle": "2021-01-20T10:50:20.747291Z",
     "shell.execute_reply": "2021-01-20T10:50:20.746696Z"
    },
    "jupyter": {
     "source_hidden": true
    },
    "papermill": {
     "duration": 0.722061,
     "end_time": "2021-01-20T10:50:20.747497",
     "exception": false,
     "start_time": "2021-01-20T10:50:20.025436",
     "status": "completed"
    },
    "tags": []
   },
   "outputs": [],
   "source": [
    "import pandas as pd\n",
    "import numpy as np\n",
    "from sqlalchemy import create_engine\n",
    "from datetime import date\n",
    "from sklearn.metrics import mean_squared_error"
   ]
  },
  {
   "cell_type": "code",
   "execution_count": 2,
   "metadata": {
    "execution": {
     "iopub.execute_input": "2021-01-20T10:50:20.763691Z",
     "iopub.status.busy": "2021-01-20T10:50:20.762855Z",
     "iopub.status.idle": "2021-01-20T10:50:20.822698Z",
     "shell.execute_reply": "2021-01-20T10:50:20.822201Z"
    },
    "jupyter": {
     "source_hidden": true
    },
    "papermill": {
     "duration": 0.069688,
     "end_time": "2021-01-20T10:50:20.822817",
     "exception": false,
     "start_time": "2021-01-20T10:50:20.753129",
     "status": "completed"
    },
    "tags": []
   },
   "outputs": [],
   "source": [
    "# THIS IS PURELY FOR TEST PURPOSE NEVER DO THAT IN PRODUCTION\n",
    "POSTGRES_ADDRESS='postgres'\n",
    "POSTGRES_PORT='5432'\n",
    "POSTGRES_USERNAME='postgres'\n",
    "POSTGRES_PASSWORD='postgres'\n",
    "\n",
    "postgres_conn = 'postgresql://{0}:{1}@{2}:{3}/'.format(POSTGRES_USERNAME, POSTGRES_PASSWORD, POSTGRES_ADDRESS, POSTGRES_PORT)\n",
    "\n",
    "# Create the connection\n",
    "cnx = create_engine(postgres_conn)\n"
   ]
  },
  {
   "cell_type": "markdown",
   "metadata": {
    "_uuid": "1998755ef10683262b29765345cff1c1c7d10b15",
    "papermill": {
     "duration": 0.005339,
     "end_time": "2021-01-20T10:50:20.833943",
     "exception": false,
     "start_time": "2021-01-20T10:50:20.828604",
     "status": "completed"
    },
    "tags": []
   },
   "source": [
    "Read in the Avocado Prices csv file as a DataFrame called df"
   ]
  },
  {
   "cell_type": "code",
   "execution_count": 3,
   "metadata": {
    "execution": {
     "iopub.execute_input": "2021-01-20T10:50:20.852548Z",
     "iopub.status.busy": "2021-01-20T10:50:20.852035Z",
     "iopub.status.idle": "2021-01-20T10:50:20.854240Z",
     "shell.execute_reply": "2021-01-20T10:50:20.854631Z"
    },
    "jupyter": {
     "source_hidden": true
    },
    "papermill": {
     "duration": 0.014837,
     "end_time": "2021-01-20T10:50:20.854770",
     "exception": false,
     "start_time": "2021-01-20T10:50:20.839933",
     "status": "completed"
    },
    "tags": [
     "parameters"
    ]
   },
   "outputs": [],
   "source": [
    "# Parameterized\n",
    "\n",
    "filepath='avocado.csv'\n",
    "ml_id='auto_100'\n",
    "ml_date=date.today()\n",
    "n_estimators = 100\n",
    "max_features = 'auto'"
   ]
  },
  {
   "cell_type": "code",
   "execution_count": 4,
   "id": "enhanced-persian",
   "metadata": {
    "execution": {
     "iopub.execute_input": "2021-01-20T10:50:20.870877Z",
     "iopub.status.busy": "2021-01-20T10:50:20.870070Z",
     "iopub.status.idle": "2021-01-20T10:50:20.873540Z",
     "shell.execute_reply": "2021-01-20T10:50:20.872973Z"
    },
    "jupyter": {
     "source_hidden": true
    },
    "papermill": {
     "duration": 0.013726,
     "end_time": "2021-01-20T10:50:20.873715",
     "exception": false,
     "start_time": "2021-01-20T10:50:20.859989",
     "status": "completed"
    },
    "tags": [
     "injected-parameters"
    ]
   },
   "outputs": [],
   "source": [
    "# Parameters\n",
    "filepath = \"/tmp/avocado.csv\"\n",
    "n_estimators = 150\n",
    "max_features = \"auto\"\n",
    "ml_id = \"auto_150\"\n"
   ]
  },
  {
   "cell_type": "code",
   "execution_count": 5,
   "metadata": {
    "_uuid": "55d0e719eb8b91d763c1eacaf0f51ee0586486fc",
    "execution": {
     "iopub.execute_input": "2021-01-20T10:50:20.889199Z",
     "iopub.status.busy": "2021-01-20T10:50:20.888701Z",
     "iopub.status.idle": "2021-01-20T10:50:20.917216Z",
     "shell.execute_reply": "2021-01-20T10:50:20.916377Z"
    },
    "jupyter": {
     "source_hidden": true
    },
    "papermill": {
     "duration": 0.037717,
     "end_time": "2021-01-20T10:50:20.917377",
     "exception": false,
     "start_time": "2021-01-20T10:50:20.879660",
     "status": "completed"
    },
    "tags": []
   },
   "outputs": [],
   "source": [
    "df= pd.read_csv(filepath)"
   ]
  },
  {
   "cell_type": "markdown",
   "metadata": {
    "_uuid": "434e0457f550e2200424e5ec26162e1aa5904005",
    "papermill": {
     "duration": 0.005712,
     "end_time": "2021-01-20T10:50:20.930601",
     "exception": false,
     "start_time": "2021-01-20T10:50:20.924889",
     "status": "completed"
    },
    "tags": []
   },
   "source": [
    "The Feature \"Unnamed:0\" is just a representation of the indexes, so it's useless to keep it, lets remove it !"
   ]
  },
  {
   "cell_type": "code",
   "execution_count": 6,
   "metadata": {
    "_uuid": "9875398e37728dc3141fed4228be337a4735beb6",
    "execution": {
     "iopub.execute_input": "2021-01-20T10:50:20.948684Z",
     "iopub.status.busy": "2021-01-20T10:50:20.947792Z",
     "iopub.status.idle": "2021-01-20T10:50:20.949964Z",
     "shell.execute_reply": "2021-01-20T10:50:20.950454Z"
    },
    "jupyter": {
     "source_hidden": true
    },
    "papermill": {
     "duration": 0.014688,
     "end_time": "2021-01-20T10:50:20.950603",
     "exception": false,
     "start_time": "2021-01-20T10:50:20.935915",
     "status": "completed"
    },
    "tags": []
   },
   "outputs": [],
   "source": [
    "df.drop('Unnamed: 0',axis=1,inplace=True)"
   ]
  },
  {
   "cell_type": "markdown",
   "metadata": {
    "_uuid": "12e94ad381e4cb8d2c8a9bbe08ce07ab5d49c040",
    "papermill": {
     "duration": 0.005814,
     "end_time": "2021-01-20T10:50:20.962228",
     "exception": false,
     "start_time": "2021-01-20T10:50:20.956414",
     "status": "completed"
    },
    "tags": []
   },
   "source": [
    "well as a first observation we can see that we are lucky, we dont have any missing values (18249 complete data) and 13 columns.\n",
    "Now let's do some Feature Engineering on the Date Feature so we can be able to use the day and the month columns in building our machine learning model later. ( I didn't mention the year because its already there in data frame)"
   ]
  },
  {
   "cell_type": "code",
   "execution_count": 7,
   "metadata": {
    "_uuid": "f031639ce794656e877484d1c9c356df7028177f",
    "execution": {
     "iopub.execute_input": "2021-01-20T10:50:20.987123Z",
     "iopub.status.busy": "2021-01-20T10:50:20.986635Z",
     "iopub.status.idle": "2021-01-20T10:50:21.104781Z",
     "shell.execute_reply": "2021-01-20T10:50:21.104099Z"
    },
    "jupyter": {
     "source_hidden": true
    },
    "papermill": {
     "duration": 0.137599,
     "end_time": "2021-01-20T10:50:21.105223",
     "exception": false,
     "start_time": "2021-01-20T10:50:20.967624",
     "status": "completed"
    },
    "tags": []
   },
   "outputs": [],
   "source": [
    "df['Date']=pd.to_datetime(df['Date'])\n",
    "df['Month']=df['Date'].apply(lambda x:x.month)\n",
    "df['Day']=df['Date'].apply(lambda x:x.day)"
   ]
  },
  {
   "cell_type": "markdown",
   "metadata": {
    "_uuid": "ebdcac9924ce3e366fd3a75170682f7113385b7a",
    "papermill": {
     "duration": 0.005983,
     "end_time": "2021-01-20T10:50:21.118450",
     "exception": false,
     "start_time": "2021-01-20T10:50:21.112467",
     "status": "completed"
    },
    "tags": []
   },
   "source": [
    "as we can see we have 54 regions and 2 unique types, so it's going to be easy to to transform the type feature to dummies, but for the region its going to be a bit complexe so I decided to drop the entire column.\n",
    "I will drop the Date Feature as well because I already have 3 other columns for the Year, Month and Day."
   ]
  },
  {
   "cell_type": "code",
   "execution_count": 8,
   "metadata": {
    "_uuid": "a798682da34327b731ef262985fd50ba68e06460",
    "execution": {
     "iopub.execute_input": "2021-01-20T10:50:21.133628Z",
     "iopub.status.busy": "2021-01-20T10:50:21.133121Z",
     "iopub.status.idle": "2021-01-20T10:50:21.143935Z",
     "shell.execute_reply": "2021-01-20T10:50:21.143383Z"
    },
    "jupyter": {
     "source_hidden": true
    },
    "papermill": {
     "duration": 0.020076,
     "end_time": "2021-01-20T10:50:21.144053",
     "exception": false,
     "start_time": "2021-01-20T10:50:21.123977",
     "status": "completed"
    },
    "tags": []
   },
   "outputs": [],
   "source": [
    "df_final=pd.get_dummies(df.drop(['region','Date'],axis=1),drop_first=True)"
   ]
  },
  {
   "cell_type": "markdown",
   "metadata": {
    "_uuid": "8b74a6b88cb3e9b3e1d1e987e061048f203c7364",
    "papermill": {
     "duration": 0.005627,
     "end_time": "2021-01-20T10:50:21.155504",
     "exception": false,
     "start_time": "2021-01-20T10:50:21.149877",
     "status": "completed"
    },
    "tags": []
   },
   "source": [
    "Now our data are ready! lets apply our model which is going to be the Linear Regression because our Target variable 'AveragePrice'is continuous.\n",
    "Let's now begin to train out regression model! We will need to first split up our data into an X array that contains the features to train on, and a y array with the target variable"
   ]
  },
  {
   "cell_type": "code",
   "execution_count": 9,
   "metadata": {
    "_uuid": "830591f99de9715241e688bf9ce265e979401ff5",
    "execution": {
     "iopub.execute_input": "2021-01-20T10:50:21.172155Z",
     "iopub.status.busy": "2021-01-20T10:50:21.171604Z",
     "iopub.status.idle": "2021-01-20T10:50:21.183351Z",
     "shell.execute_reply": "2021-01-20T10:50:21.182532Z"
    },
    "jupyter": {
     "source_hidden": true
    },
    "papermill": {
     "duration": 0.022615,
     "end_time": "2021-01-20T10:50:21.183599",
     "exception": false,
     "start_time": "2021-01-20T10:50:21.160984",
     "status": "completed"
    },
    "tags": []
   },
   "outputs": [],
   "source": [
    "X=df_final.iloc[:,1:14]\n",
    "y=df_final['AveragePrice']\n",
    "from sklearn.model_selection import train_test_split\n",
    "X_train,X_test,y_train,y_test=train_test_split(X,y,test_size=0.2,random_state=42)"
   ]
  },
  {
   "cell_type": "markdown",
   "metadata": {
    "_uuid": "ea730c77a31cde9de98263079a189accb8b5772b",
    "papermill": {
     "duration": 0.005653,
     "end_time": "2021-01-20T10:50:21.195132",
     "exception": false,
     "start_time": "2021-01-20T10:50:21.189479",
     "status": "completed"
    },
    "tags": []
   },
   "source": [
    "Creating and Training the Model"
   ]
  },
  {
   "cell_type": "code",
   "execution_count": 10,
   "metadata": {
    "_uuid": "eb37015e78974e5fd2ae7e13d065c8ab0a9c6948",
    "execution": {
     "iopub.execute_input": "2021-01-20T10:50:21.210381Z",
     "iopub.status.busy": "2021-01-20T10:50:21.209908Z",
     "iopub.status.idle": "2021-01-20T10:50:34.078804Z",
     "shell.execute_reply": "2021-01-20T10:50:34.077894Z"
    },
    "jupyter": {
     "source_hidden": true
    },
    "papermill": {
     "duration": 12.878164,
     "end_time": "2021-01-20T10:50:34.078933",
     "exception": false,
     "start_time": "2021-01-20T10:50:21.200769",
     "status": "completed"
    },
    "tags": []
   },
   "outputs": [],
   "source": [
    "from sklearn.ensemble import RandomForestRegressor\n",
    "rdr = RandomForestRegressor(\n",
    "    n_estimators=n_estimators,\n",
    "    max_features=max_features\n",
    ")\n",
    "rdr.fit(X_train,y_train)\n",
    "pred=rdr.predict(X_test)"
   ]
  },
  {
   "cell_type": "code",
   "execution_count": 11,
   "metadata": {
    "_uuid": "7ed5b8d4e8abb44a4b548c13ac9fb2d65227d1c5",
    "execution": {
     "iopub.execute_input": "2021-01-20T10:50:34.094446Z",
     "iopub.status.busy": "2021-01-20T10:50:34.093710Z",
     "iopub.status.idle": "2021-01-20T10:50:34.095881Z",
     "shell.execute_reply": "2021-01-20T10:50:34.096221Z"
    },
    "jupyter": {
     "source_hidden": true
    },
    "papermill": {
     "duration": 0.011609,
     "end_time": "2021-01-20T10:50:34.096364",
     "exception": false,
     "start_time": "2021-01-20T10:50:34.084755",
     "status": "completed"
    },
    "tags": []
   },
   "outputs": [],
   "source": [
    "#%%capture cap --no-stderr\n",
    "#print(np.sqrt(mean_squared_error(y_test, pred)))"
   ]
  },
  {
   "cell_type": "code",
   "execution_count": 12,
   "metadata": {
    "execution": {
     "iopub.execute_input": "2021-01-20T10:50:34.111959Z",
     "iopub.status.busy": "2021-01-20T10:50:34.111393Z",
     "iopub.status.idle": "2021-01-20T10:50:34.113694Z",
     "shell.execute_reply": "2021-01-20T10:50:34.114084Z"
    },
    "jupyter": {
     "source_hidden": true
    },
    "papermill": {
     "duration": 0.012065,
     "end_time": "2021-01-20T10:50:34.114254",
     "exception": false,
     "start_time": "2021-01-20T10:50:34.102189",
     "status": "completed"
    },
    "tags": []
   },
   "outputs": [],
   "source": [
    "#with open(output_rmse, 'w') as f:\n",
    "#    f.write(cap.stdout)"
   ]
  },
  {
   "cell_type": "code",
   "execution_count": 13,
   "metadata": {
    "execution": {
     "iopub.execute_input": "2021-01-20T10:50:34.131187Z",
     "iopub.status.busy": "2021-01-20T10:50:34.130489Z",
     "iopub.status.idle": "2021-01-20T10:50:34.149152Z",
     "shell.execute_reply": "2021-01-20T10:50:34.148779Z"
    },
    "jupyter": {
     "source_hidden": true
    },
    "papermill": {
     "duration": 0.029159,
     "end_time": "2021-01-20T10:50:34.149264",
     "exception": false,
     "start_time": "2021-01-20T10:50:34.120105",
     "status": "completed"
    },
    "tags": []
   },
   "outputs": [
    {
     "data": {
      "text/plain": [
       "<sqlalchemy.engine.result.ResultProxy at 0x7fa8ca915bd0>"
      ]
     },
     "execution_count": 13,
     "metadata": {},
     "output_type": "execute_result"
    }
   ],
   "source": [
    "cnx.execute(\"\"\"\n",
    "    INSERT INTO ml.accuracies (ml_id, ml_date, accuracy) VALUES ('{0}', '{1}', {2}) \n",
    "    ON CONFLICT (ml_id, ml_date) \n",
    "    DO\n",
    "        UPDATE SET accuracy = {2};\n",
    "    \"\"\".format(ml_id, ml_date, np.sqrt(mean_squared_error(y_test, pred))))"
   ]
  }
 ],
 "metadata": {
  "kernelspec": {
   "display_name": "Python 3",
   "language": "python",
   "name": "python3"
  },
  "language_info": {
   "codemirror_mode": {
    "name": "ipython",
    "version": 3
   },
   "file_extension": ".py",
   "mimetype": "text/x-python",
   "name": "python",
   "nbconvert_exporter": "python",
   "pygments_lexer": "ipython3",
   "version": "3.7.9"
  },
  "papermill": {
   "duration": 15.573234,
   "end_time": "2021-01-20T10:50:34.562803",
   "environment_variables": {},
   "exception": null,
   "input_path": "/usr/local/airflow/include/notebooks/avocado_prediction.ipynb",
   "output_path": "/tmp/out-model-avocado-prediction-auto_150.ipynb",
   "parameters": {
    "filepath": "/tmp/avocado.csv",
    "max_features": "auto",
    "ml_id": "auto_150",
    "n_estimators": 150
   },
   "start_time": "2021-01-20T10:50:18.989569",
   "version": "2.1.2"
  }
 },
 "nbformat": 4,
 "nbformat_minor": 4
}
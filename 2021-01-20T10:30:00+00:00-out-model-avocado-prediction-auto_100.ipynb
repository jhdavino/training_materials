{
 "cells": [
  {
   "cell_type": "code",
   "execution_count": 1,
   "metadata": {
    "_cell_guid": "79c7e3d0-c299-4dcb-8224-4455121ee9b0",
    "_uuid": "d629ff2d2480ee46fbb7e2d37f6b5fab8052498a",
    "execution": {
     "iopub.execute_input": "2021-01-20T10:40:42.376621Z",
     "iopub.status.busy": "2021-01-20T10:40:42.375600Z",
     "iopub.status.idle": "2021-01-20T10:40:43.340662Z",
     "shell.execute_reply": "2021-01-20T10:40:43.339988Z"
    },
    "jupyter": {
     "source_hidden": true
    },
    "papermill": {
     "duration": 0.979273,
     "end_time": "2021-01-20T10:40:43.340879",
     "exception": false,
     "start_time": "2021-01-20T10:40:42.361606",
     "status": "completed"
    },
    "tags": []
   },
   "outputs": [],
   "source": [
    "import pandas as pd\n",
    "import numpy as np\n",
    "from sqlalchemy import create_engine\n",
    "from datetime import date\n",
    "from sklearn.metrics import mean_squared_error"
   ]
  },
  {
   "cell_type": "code",
   "execution_count": 2,
   "metadata": {
    "execution": {
     "iopub.execute_input": "2021-01-20T10:40:43.363743Z",
     "iopub.status.busy": "2021-01-20T10:40:43.363137Z",
     "iopub.status.idle": "2021-01-20T10:40:43.435398Z",
     "shell.execute_reply": "2021-01-20T10:40:43.434568Z"
    },
    "jupyter": {
     "source_hidden": true
    },
    "papermill": {
     "duration": 0.087279,
     "end_time": "2021-01-20T10:40:43.435542",
     "exception": false,
     "start_time": "2021-01-20T10:40:43.348263",
     "status": "completed"
    },
    "tags": []
   },
   "outputs": [],
   "source": [
    "# THIS IS PURELY FOR TEST PURPOSE NEVER DO THAT IN PRODUCTION\n",
    "POSTGRES_ADDRESS='postgres'\n",
    "POSTGRES_PORT='5432'\n",
    "POSTGRES_USERNAME='postgres'\n",
    "POSTGRES_PASSWORD='postgres'\n",
    "\n",
    "postgres_conn = 'postgresql://{0}:{1}@{2}:{3}/'.format(POSTGRES_USERNAME, POSTGRES_PASSWORD, POSTGRES_ADDRESS, POSTGRES_PORT)\n",
    "\n",
    "# Create the connection\n",
    "cnx = create_engine(postgres_conn)\n"
   ]
  },
  {
   "cell_type": "markdown",
   "metadata": {
    "_uuid": "1998755ef10683262b29765345cff1c1c7d10b15",
    "papermill": {
     "duration": 0.011101,
     "end_time": "2021-01-20T10:40:43.453764",
     "exception": false,
     "start_time": "2021-01-20T10:40:43.442663",
     "status": "completed"
    },
    "tags": []
   },
   "source": [
    "Read in the Avocado Prices csv file as a DataFrame called df"
   ]
  },
  {
   "cell_type": "code",
   "execution_count": 3,
   "metadata": {
    "execution": {
     "iopub.execute_input": "2021-01-20T10:40:43.478612Z",
     "iopub.status.busy": "2021-01-20T10:40:43.477949Z",
     "iopub.status.idle": "2021-01-20T10:40:43.481390Z",
     "shell.execute_reply": "2021-01-20T10:40:43.480723Z"
    },
    "jupyter": {
     "source_hidden": true
    },
    "papermill": {
     "duration": 0.018398,
     "end_time": "2021-01-20T10:40:43.481536",
     "exception": false,
     "start_time": "2021-01-20T10:40:43.463138",
     "status": "completed"
    },
    "tags": [
     "parameters"
    ]
   },
   "outputs": [],
   "source": [
    "# Parameterized\n",
    "\n",
    "filepath='avocado.csv'\n",
    "ml_id='auto_100'\n",
    "ml_date=date.today()\n",
    "n_estimators = 100\n",
    "max_features = 'auto'"
   ]
  },
  {
   "cell_type": "code",
   "execution_count": 4,
   "id": "prompt-nursery",
   "metadata": {
    "execution": {
     "iopub.execute_input": "2021-01-20T10:40:43.503287Z",
     "iopub.status.busy": "2021-01-20T10:40:43.502650Z",
     "iopub.status.idle": "2021-01-20T10:40:43.506475Z",
     "shell.execute_reply": "2021-01-20T10:40:43.507351Z"
    },
    "jupyter": {
     "source_hidden": true
    },
    "papermill": {
     "duration": 0.018928,
     "end_time": "2021-01-20T10:40:43.507592",
     "exception": false,
     "start_time": "2021-01-20T10:40:43.488664",
     "status": "completed"
    },
    "tags": [
     "injected-parameters"
    ]
   },
   "outputs": [],
   "source": [
    "# Parameters\n",
    "filepath = \"/tmp/avocado.csv\"\n",
    "n_estimators = 100\n",
    "max_features = \"auto\"\n",
    "ml_id = \"auto_100\"\n"
   ]
  },
  {
   "cell_type": "code",
   "execution_count": 5,
   "metadata": {
    "_uuid": "55d0e719eb8b91d763c1eacaf0f51ee0586486fc",
    "execution": {
     "iopub.execute_input": "2021-01-20T10:40:43.527320Z",
     "iopub.status.busy": "2021-01-20T10:40:43.526642Z",
     "iopub.status.idle": "2021-01-20T10:40:43.561758Z",
     "shell.execute_reply": "2021-01-20T10:40:43.561250Z"
    },
    "jupyter": {
     "source_hidden": true
    },
    "papermill": {
     "duration": 0.046856,
     "end_time": "2021-01-20T10:40:43.561921",
     "exception": false,
     "start_time": "2021-01-20T10:40:43.515065",
     "status": "completed"
    },
    "tags": []
   },
   "outputs": [],
   "source": [
    "df= pd.read_csv(filepath)"
   ]
  },
  {
   "cell_type": "markdown",
   "metadata": {
    "_uuid": "434e0457f550e2200424e5ec26162e1aa5904005",
    "papermill": {
     "duration": 0.009362,
     "end_time": "2021-01-20T10:40:43.579133",
     "exception": false,
     "start_time": "2021-01-20T10:40:43.569771",
     "status": "completed"
    },
    "tags": []
   },
   "source": [
    "The Feature \"Unnamed:0\" is just a representation of the indexes, so it's useless to keep it, lets remove it !"
   ]
  },
  {
   "cell_type": "code",
   "execution_count": 6,
   "metadata": {
    "_uuid": "9875398e37728dc3141fed4228be337a4735beb6",
    "execution": {
     "iopub.execute_input": "2021-01-20T10:40:43.600551Z",
     "iopub.status.busy": "2021-01-20T10:40:43.599007Z",
     "iopub.status.idle": "2021-01-20T10:40:43.603819Z",
     "shell.execute_reply": "2021-01-20T10:40:43.603348Z"
    },
    "jupyter": {
     "source_hidden": true
    },
    "papermill": {
     "duration": 0.016908,
     "end_time": "2021-01-20T10:40:43.603955",
     "exception": false,
     "start_time": "2021-01-20T10:40:43.587047",
     "status": "completed"
    },
    "tags": []
   },
   "outputs": [],
   "source": [
    "df.drop('Unnamed: 0',axis=1,inplace=True)"
   ]
  },
  {
   "cell_type": "markdown",
   "metadata": {
    "_uuid": "12e94ad381e4cb8d2c8a9bbe08ce07ab5d49c040",
    "papermill": {
     "duration": 0.006846,
     "end_time": "2021-01-20T10:40:43.618552",
     "exception": false,
     "start_time": "2021-01-20T10:40:43.611706",
     "status": "completed"
    },
    "tags": []
   },
   "source": [
    "well as a first observation we can see that we are lucky, we dont have any missing values (18249 complete data) and 13 columns.\n",
    "Now let's do some Feature Engineering on the Date Feature so we can be able to use the day and the month columns in building our machine learning model later. ( I didn't mention the year because its already there in data frame)"
   ]
  },
  {
   "cell_type": "code",
   "execution_count": 7,
   "metadata": {
    "_uuid": "f031639ce794656e877484d1c9c356df7028177f",
    "execution": {
     "iopub.execute_input": "2021-01-20T10:40:43.638884Z",
     "iopub.status.busy": "2021-01-20T10:40:43.638213Z",
     "iopub.status.idle": "2021-01-20T10:40:43.788614Z",
     "shell.execute_reply": "2021-01-20T10:40:43.787940Z"
    },
    "jupyter": {
     "source_hidden": true
    },
    "papermill": {
     "duration": 0.163231,
     "end_time": "2021-01-20T10:40:43.788775",
     "exception": false,
     "start_time": "2021-01-20T10:40:43.625544",
     "status": "completed"
    },
    "tags": []
   },
   "outputs": [],
   "source": [
    "df['Date']=pd.to_datetime(df['Date'])\n",
    "df['Month']=df['Date'].apply(lambda x:x.month)\n",
    "df['Day']=df['Date'].apply(lambda x:x.day)"
   ]
  },
  {
   "cell_type": "markdown",
   "metadata": {
    "_uuid": "ebdcac9924ce3e366fd3a75170682f7113385b7a",
    "papermill": {
     "duration": 0.007448,
     "end_time": "2021-01-20T10:40:43.803445",
     "exception": false,
     "start_time": "2021-01-20T10:40:43.795997",
     "status": "completed"
    },
    "tags": []
   },
   "source": [
    "as we can see we have 54 regions and 2 unique types, so it's going to be easy to to transform the type feature to dummies, but for the region its going to be a bit complexe so I decided to drop the entire column.\n",
    "I will drop the Date Feature as well because I already have 3 other columns for the Year, Month and Day."
   ]
  },
  {
   "cell_type": "code",
   "execution_count": 8,
   "metadata": {
    "_uuid": "a798682da34327b731ef262985fd50ba68e06460",
    "execution": {
     "iopub.execute_input": "2021-01-20T10:40:43.824272Z",
     "iopub.status.busy": "2021-01-20T10:40:43.823611Z",
     "iopub.status.idle": "2021-01-20T10:40:43.836780Z",
     "shell.execute_reply": "2021-01-20T10:40:43.837298Z"
    },
    "jupyter": {
     "source_hidden": true
    },
    "papermill": {
     "duration": 0.026659,
     "end_time": "2021-01-20T10:40:43.837476",
     "exception": false,
     "start_time": "2021-01-20T10:40:43.810817",
     "status": "completed"
    },
    "tags": []
   },
   "outputs": [],
   "source": [
    "df_final=pd.get_dummies(df.drop(['region','Date'],axis=1),drop_first=True)"
   ]
  },
  {
   "cell_type": "markdown",
   "metadata": {
    "_uuid": "8b74a6b88cb3e9b3e1d1e987e061048f203c7364",
    "papermill": {
     "duration": 0.007702,
     "end_time": "2021-01-20T10:40:43.852459",
     "exception": false,
     "start_time": "2021-01-20T10:40:43.844757",
     "status": "completed"
    },
    "tags": []
   },
   "source": [
    "Now our data are ready! lets apply our model which is going to be the Linear Regression because our Target variable 'AveragePrice'is continuous.\n",
    "Let's now begin to train out regression model! We will need to first split up our data into an X array that contains the features to train on, and a y array with the target variable"
   ]
  },
  {
   "cell_type": "code",
   "execution_count": 9,
   "metadata": {
    "_uuid": "830591f99de9715241e688bf9ce265e979401ff5",
    "execution": {
     "iopub.execute_input": "2021-01-20T10:40:43.879345Z",
     "iopub.status.busy": "2021-01-20T10:40:43.878436Z",
     "iopub.status.idle": "2021-01-20T10:40:43.892767Z",
     "shell.execute_reply": "2021-01-20T10:40:43.892113Z"
    },
    "jupyter": {
     "source_hidden": true
    },
    "papermill": {
     "duration": 0.031736,
     "end_time": "2021-01-20T10:40:43.892977",
     "exception": false,
     "start_time": "2021-01-20T10:40:43.861241",
     "status": "completed"
    },
    "tags": []
   },
   "outputs": [],
   "source": [
    "X=df_final.iloc[:,1:14]\n",
    "y=df_final['AveragePrice']\n",
    "from sklearn.model_selection import train_test_split\n",
    "X_train,X_test,y_train,y_test=train_test_split(X,y,test_size=0.2,random_state=42)"
   ]
  },
  {
   "cell_type": "markdown",
   "metadata": {
    "_uuid": "ea730c77a31cde9de98263079a189accb8b5772b",
    "papermill": {
     "duration": 0.007858,
     "end_time": "2021-01-20T10:40:43.907889",
     "exception": false,
     "start_time": "2021-01-20T10:40:43.900031",
     "status": "completed"
    },
    "tags": []
   },
   "source": [
    "Creating and Training the Model"
   ]
  },
  {
   "cell_type": "code",
   "execution_count": 10,
   "metadata": {
    "_uuid": "eb37015e78974e5fd2ae7e13d065c8ab0a9c6948",
    "execution": {
     "iopub.execute_input": "2021-01-20T10:40:43.929872Z",
     "iopub.status.busy": "2021-01-20T10:40:43.929246Z",
     "iopub.status.idle": "2021-01-20T10:40:55.150431Z",
     "shell.execute_reply": "2021-01-20T10:40:55.150916Z"
    },
    "jupyter": {
     "source_hidden": true
    },
    "papermill": {
     "duration": 11.235402,
     "end_time": "2021-01-20T10:40:55.151133",
     "exception": false,
     "start_time": "2021-01-20T10:40:43.915731",
     "status": "completed"
    },
    "tags": []
   },
   "outputs": [],
   "source": [
    "from sklearn.ensemble import RandomForestRegressor\n",
    "rdr = RandomForestRegressor(\n",
    "    n_estimators=n_estimators,\n",
    "    max_features=max_features\n",
    ")\n",
    "rdr.fit(X_train,y_train)\n",
    "pred=rdr.predict(X_test)"
   ]
  },
  {
   "cell_type": "code",
   "execution_count": 11,
   "metadata": {
    "_uuid": "7ed5b8d4e8abb44a4b548c13ac9fb2d65227d1c5",
    "execution": {
     "iopub.execute_input": "2021-01-20T10:40:55.170021Z",
     "iopub.status.busy": "2021-01-20T10:40:55.169171Z",
     "iopub.status.idle": "2021-01-20T10:40:55.172324Z",
     "shell.execute_reply": "2021-01-20T10:40:55.172897Z"
    },
    "jupyter": {
     "source_hidden": true
    },
    "papermill": {
     "duration": 0.01434,
     "end_time": "2021-01-20T10:40:55.173169",
     "exception": false,
     "start_time": "2021-01-20T10:40:55.158829",
     "status": "completed"
    },
    "tags": []
   },
   "outputs": [],
   "source": [
    "#%%capture cap --no-stderr\n",
    "#print(np.sqrt(mean_squared_error(y_test, pred)))"
   ]
  },
  {
   "cell_type": "code",
   "execution_count": 12,
   "metadata": {
    "execution": {
     "iopub.execute_input": "2021-01-20T10:40:55.195133Z",
     "iopub.status.busy": "2021-01-20T10:40:55.194509Z",
     "iopub.status.idle": "2021-01-20T10:40:55.202642Z",
     "shell.execute_reply": "2021-01-20T10:40:55.203493Z"
    },
    "jupyter": {
     "source_hidden": true
    },
    "papermill": {
     "duration": 0.022288,
     "end_time": "2021-01-20T10:40:55.203791",
     "exception": false,
     "start_time": "2021-01-20T10:40:55.181503",
     "status": "completed"
    },
    "tags": []
   },
   "outputs": [],
   "source": [
    "#with open(output_rmse, 'w') as f:\n",
    "#    f.write(cap.stdout)"
   ]
  },
  {
   "cell_type": "code",
   "execution_count": 13,
   "metadata": {
    "execution": {
     "iopub.execute_input": "2021-01-20T10:40:55.226233Z",
     "iopub.status.busy": "2021-01-20T10:40:55.225089Z",
     "iopub.status.idle": "2021-01-20T10:40:55.248825Z",
     "shell.execute_reply": "2021-01-20T10:40:55.249433Z"
    },
    "jupyter": {
     "source_hidden": true
    },
    "papermill": {
     "duration": 0.035078,
     "end_time": "2021-01-20T10:40:55.249605",
     "exception": false,
     "start_time": "2021-01-20T10:40:55.214527",
     "status": "completed"
    },
    "tags": []
   },
   "outputs": [
    {
     "data": {
      "text/plain": [
       "<sqlalchemy.engine.result.ResultProxy at 0x7f3c2b3a30d0>"
      ]
     },
     "execution_count": 13,
     "metadata": {},
     "output_type": "execute_result"
    }
   ],
   "source": [
    "cnx.execute(\"\"\"\n",
    "    INSERT INTO ml.accuracies (ml_id, ml_date, accuracy) VALUES ('{0}', '{1}', {2}) \n",
    "    ON CONFLICT (ml_id, ml_date) \n",
    "    DO\n",
    "        UPDATE SET accuracy = {2};\n",
    "    \"\"\".format(ml_id, ml_date, np.sqrt(mean_squared_error(y_test, pred))))"
   ]
  }
 ],
 "metadata": {
  "kernelspec": {
   "display_name": "Python 3",
   "language": "python",
   "name": "python3"
  },
  "language_info": {
   "codemirror_mode": {
    "name": "ipython",
    "version": 3
   },
   "file_extension": ".py",
   "mimetype": "text/x-python",
   "name": "python",
   "nbconvert_exporter": "python",
   "pygments_lexer": "ipython3",
   "version": "3.7.9"
  },
  "papermill": {
   "duration": 14.661757,
   "end_time": "2021-01-20T10:40:55.666218",
   "environment_variables": {},
   "exception": null,
   "input_path": "/usr/local/airflow/include/notebooks/avocado_prediction.ipynb",
   "output_path": "/tmp/out-model-avocado-prediction-auto_100.ipynb",
   "parameters": {
    "filepath": "/tmp/avocado.csv",
    "max_features": "auto",
    "ml_id": "auto_100",
    "n_estimators": 100
   },
   "start_time": "2021-01-20T10:40:41.004461",
   "version": "2.1.2"
  }
 },
 "nbformat": 4,
 "nbformat_minor": 4
}
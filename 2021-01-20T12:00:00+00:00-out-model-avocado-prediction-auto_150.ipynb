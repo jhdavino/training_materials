{
 "cells": [
  {
   "cell_type": "code",
   "execution_count": 1,
   "metadata": {
    "_cell_guid": "79c7e3d0-c299-4dcb-8224-4455121ee9b0",
    "_uuid": "d629ff2d2480ee46fbb7e2d37f6b5fab8052498a",
    "execution": {
     "iopub.execute_input": "2021-01-20T12:10:23.766390Z",
     "iopub.status.busy": "2021-01-20T12:10:23.765837Z",
     "iopub.status.idle": "2021-01-20T12:10:24.428704Z",
     "shell.execute_reply": "2021-01-20T12:10:24.427968Z"
    },
    "jupyter": {
     "source_hidden": true
    },
    "papermill": {
     "duration": 0.672756,
     "end_time": "2021-01-20T12:10:24.428970",
     "exception": false,
     "start_time": "2021-01-20T12:10:23.756214",
     "status": "completed"
    },
    "tags": []
   },
   "outputs": [],
   "source": [
    "import pandas as pd\n",
    "import numpy as np\n",
    "from sqlalchemy import create_engine\n",
    "from datetime import date\n",
    "from sklearn.metrics import mean_squared_error"
   ]
  },
  {
   "cell_type": "code",
   "execution_count": 2,
   "metadata": {
    "execution": {
     "iopub.execute_input": "2021-01-20T12:10:24.446713Z",
     "iopub.status.busy": "2021-01-20T12:10:24.445919Z",
     "iopub.status.idle": "2021-01-20T12:10:24.502957Z",
     "shell.execute_reply": "2021-01-20T12:10:24.502091Z"
    },
    "jupyter": {
     "source_hidden": true
    },
    "papermill": {
     "duration": 0.067051,
     "end_time": "2021-01-20T12:10:24.503189",
     "exception": false,
     "start_time": "2021-01-20T12:10:24.436138",
     "status": "completed"
    },
    "tags": []
   },
   "outputs": [],
   "source": [
    "# THIS IS PURELY FOR TEST PURPOSE NEVER DO THAT IN PRODUCTION\n",
    "POSTGRES_ADDRESS='postgres'\n",
    "POSTGRES_PORT='5432'\n",
    "POSTGRES_USERNAME='postgres'\n",
    "POSTGRES_PASSWORD='postgres'\n",
    "\n",
    "postgres_conn = 'postgresql://{0}:{1}@{2}:{3}/'.format(POSTGRES_USERNAME, POSTGRES_PASSWORD, POSTGRES_ADDRESS, POSTGRES_PORT)\n",
    "\n",
    "# Create the connection\n",
    "cnx = create_engine(postgres_conn)\n"
   ]
  },
  {
   "cell_type": "markdown",
   "metadata": {
    "_uuid": "1998755ef10683262b29765345cff1c1c7d10b15",
    "papermill": {
     "duration": 0.005034,
     "end_time": "2021-01-20T12:10:24.516766",
     "exception": false,
     "start_time": "2021-01-20T12:10:24.511732",
     "status": "completed"
    },
    "tags": []
   },
   "source": [
    "Read in the Avocado Prices csv file as a DataFrame called df"
   ]
  },
  {
   "cell_type": "code",
   "execution_count": 3,
   "metadata": {
    "execution": {
     "iopub.execute_input": "2021-01-20T12:10:24.531830Z",
     "iopub.status.busy": "2021-01-20T12:10:24.531287Z",
     "iopub.status.idle": "2021-01-20T12:10:24.534131Z",
     "shell.execute_reply": "2021-01-20T12:10:24.533543Z"
    },
    "jupyter": {
     "source_hidden": true
    },
    "papermill": {
     "duration": 0.012581,
     "end_time": "2021-01-20T12:10:24.534335",
     "exception": false,
     "start_time": "2021-01-20T12:10:24.521754",
     "status": "completed"
    },
    "tags": [
     "parameters"
    ]
   },
   "outputs": [],
   "source": [
    "# Parameterized\n",
    "\n",
    "filepath='avocado.csv'\n",
    "ml_id='auto_100'\n",
    "ml_date=date.today()\n",
    "n_estimators = 100\n",
    "max_features = 'auto'"
   ]
  },
  {
   "cell_type": "code",
   "execution_count": 4,
   "id": "animal-connectivity",
   "metadata": {
    "execution": {
     "iopub.execute_input": "2021-01-20T12:10:24.550710Z",
     "iopub.status.busy": "2021-01-20T12:10:24.550257Z",
     "iopub.status.idle": "2021-01-20T12:10:24.552818Z",
     "shell.execute_reply": "2021-01-20T12:10:24.552415Z"
    },
    "jupyter": {
     "source_hidden": true
    },
    "papermill": {
     "duration": 0.011337,
     "end_time": "2021-01-20T12:10:24.552924",
     "exception": false,
     "start_time": "2021-01-20T12:10:24.541587",
     "status": "completed"
    },
    "tags": [
     "injected-parameters"
    ]
   },
   "outputs": [],
   "source": [
    "# Parameters\n",
    "filepath = \"/tmp/avocado.csv\"\n",
    "n_estimators = 150\n",
    "max_features = \"auto\"\n",
    "ml_id = \"auto_150\"\n"
   ]
  },
  {
   "cell_type": "code",
   "execution_count": 5,
   "metadata": {
    "_uuid": "55d0e719eb8b91d763c1eacaf0f51ee0586486fc",
    "execution": {
     "iopub.execute_input": "2021-01-20T12:10:24.567109Z",
     "iopub.status.busy": "2021-01-20T12:10:24.566623Z",
     "iopub.status.idle": "2021-01-20T12:10:24.593651Z",
     "shell.execute_reply": "2021-01-20T12:10:24.593249Z"
    },
    "jupyter": {
     "source_hidden": true
    },
    "papermill": {
     "duration": 0.035421,
     "end_time": "2021-01-20T12:10:24.593766",
     "exception": false,
     "start_time": "2021-01-20T12:10:24.558345",
     "status": "completed"
    },
    "tags": []
   },
   "outputs": [],
   "source": [
    "df= pd.read_csv(filepath)"
   ]
  },
  {
   "cell_type": "markdown",
   "metadata": {
    "_uuid": "434e0457f550e2200424e5ec26162e1aa5904005",
    "papermill": {
     "duration": 0.007007,
     "end_time": "2021-01-20T12:10:24.607642",
     "exception": false,
     "start_time": "2021-01-20T12:10:24.600635",
     "status": "completed"
    },
    "tags": []
   },
   "source": [
    "The Feature \"Unnamed:0\" is just a representation of the indexes, so it's useless to keep it, lets remove it !"
   ]
  },
  {
   "cell_type": "code",
   "execution_count": 6,
   "metadata": {
    "_uuid": "9875398e37728dc3141fed4228be337a4735beb6",
    "execution": {
     "iopub.execute_input": "2021-01-20T12:10:24.626247Z",
     "iopub.status.busy": "2021-01-20T12:10:24.625571Z",
     "iopub.status.idle": "2021-01-20T12:10:24.628472Z",
     "shell.execute_reply": "2021-01-20T12:10:24.627840Z"
    },
    "jupyter": {
     "source_hidden": true
    },
    "papermill": {
     "duration": 0.015641,
     "end_time": "2021-01-20T12:10:24.628640",
     "exception": false,
     "start_time": "2021-01-20T12:10:24.612999",
     "status": "completed"
    },
    "tags": []
   },
   "outputs": [],
   "source": [
    "df.drop('Unnamed: 0',axis=1,inplace=True)"
   ]
  },
  {
   "cell_type": "markdown",
   "metadata": {
    "_uuid": "12e94ad381e4cb8d2c8a9bbe08ce07ab5d49c040",
    "papermill": {
     "duration": 0.005328,
     "end_time": "2021-01-20T12:10:24.641339",
     "exception": false,
     "start_time": "2021-01-20T12:10:24.636011",
     "status": "completed"
    },
    "tags": []
   },
   "source": [
    "well as a first observation we can see that we are lucky, we dont have any missing values (18249 complete data) and 13 columns.\n",
    "Now let's do some Feature Engineering on the Date Feature so we can be able to use the day and the month columns in building our machine learning model later. ( I didn't mention the year because its already there in data frame)"
   ]
  },
  {
   "cell_type": "code",
   "execution_count": 7,
   "metadata": {
    "_uuid": "f031639ce794656e877484d1c9c356df7028177f",
    "execution": {
     "iopub.execute_input": "2021-01-20T12:10:24.657520Z",
     "iopub.status.busy": "2021-01-20T12:10:24.656996Z",
     "iopub.status.idle": "2021-01-20T12:10:24.774111Z",
     "shell.execute_reply": "2021-01-20T12:10:24.773659Z"
    },
    "jupyter": {
     "source_hidden": true
    },
    "papermill": {
     "duration": 0.127532,
     "end_time": "2021-01-20T12:10:24.774232",
     "exception": false,
     "start_time": "2021-01-20T12:10:24.646700",
     "status": "completed"
    },
    "tags": []
   },
   "outputs": [],
   "source": [
    "df['Date']=pd.to_datetime(df['Date'])\n",
    "df['Month']=df['Date'].apply(lambda x:x.month)\n",
    "df['Day']=df['Date'].apply(lambda x:x.day)"
   ]
  },
  {
   "cell_type": "markdown",
   "metadata": {
    "_uuid": "ebdcac9924ce3e366fd3a75170682f7113385b7a",
    "papermill": {
     "duration": 0.005362,
     "end_time": "2021-01-20T12:10:24.785166",
     "exception": false,
     "start_time": "2021-01-20T12:10:24.779804",
     "status": "completed"
    },
    "tags": []
   },
   "source": [
    "as we can see we have 54 regions and 2 unique types, so it's going to be easy to to transform the type feature to dummies, but for the region its going to be a bit complexe so I decided to drop the entire column.\n",
    "I will drop the Date Feature as well because I already have 3 other columns for the Year, Month and Day."
   ]
  },
  {
   "cell_type": "code",
   "execution_count": 8,
   "metadata": {
    "_uuid": "a798682da34327b731ef262985fd50ba68e06460",
    "execution": {
     "iopub.execute_input": "2021-01-20T12:10:24.802627Z",
     "iopub.status.busy": "2021-01-20T12:10:24.802049Z",
     "iopub.status.idle": "2021-01-20T12:10:24.812064Z",
     "shell.execute_reply": "2021-01-20T12:10:24.812425Z"
    },
    "jupyter": {
     "source_hidden": true
    },
    "papermill": {
     "duration": 0.020596,
     "end_time": "2021-01-20T12:10:24.812637",
     "exception": false,
     "start_time": "2021-01-20T12:10:24.792041",
     "status": "completed"
    },
    "tags": []
   },
   "outputs": [],
   "source": [
    "df_final=pd.get_dummies(df.drop(['region','Date'],axis=1),drop_first=True)"
   ]
  },
  {
   "cell_type": "markdown",
   "metadata": {
    "_uuid": "8b74a6b88cb3e9b3e1d1e987e061048f203c7364",
    "papermill": {
     "duration": 0.007698,
     "end_time": "2021-01-20T12:10:24.825770",
     "exception": false,
     "start_time": "2021-01-20T12:10:24.818072",
     "status": "completed"
    },
    "tags": []
   },
   "source": [
    "Now our data are ready! lets apply our model which is going to be the Linear Regression because our Target variable 'AveragePrice'is continuous.\n",
    "Let's now begin to train out regression model! We will need to first split up our data into an X array that contains the features to train on, and a y array with the target variable"
   ]
  },
  {
   "cell_type": "code",
   "execution_count": 9,
   "metadata": {
    "_uuid": "830591f99de9715241e688bf9ce265e979401ff5",
    "execution": {
     "iopub.execute_input": "2021-01-20T12:10:24.842832Z",
     "iopub.status.busy": "2021-01-20T12:10:24.842086Z",
     "iopub.status.idle": "2021-01-20T12:10:24.851864Z",
     "shell.execute_reply": "2021-01-20T12:10:24.851388Z"
    },
    "jupyter": {
     "source_hidden": true
    },
    "papermill": {
     "duration": 0.02012,
     "end_time": "2021-01-20T12:10:24.851974",
     "exception": false,
     "start_time": "2021-01-20T12:10:24.831854",
     "status": "completed"
    },
    "tags": []
   },
   "outputs": [],
   "source": [
    "X=df_final.iloc[:,1:14]\n",
    "y=df_final['AveragePrice']\n",
    "from sklearn.model_selection import train_test_split\n",
    "X_train,X_test,y_train,y_test=train_test_split(X,y,test_size=0.2,random_state=42)"
   ]
  },
  {
   "cell_type": "markdown",
   "metadata": {
    "_uuid": "ea730c77a31cde9de98263079a189accb8b5772b",
    "papermill": {
     "duration": 0.005215,
     "end_time": "2021-01-20T12:10:24.862582",
     "exception": false,
     "start_time": "2021-01-20T12:10:24.857367",
     "status": "completed"
    },
    "tags": []
   },
   "source": [
    "Creating and Training the Model"
   ]
  },
  {
   "cell_type": "code",
   "execution_count": 10,
   "metadata": {
    "_uuid": "eb37015e78974e5fd2ae7e13d065c8ab0a9c6948",
    "execution": {
     "iopub.execute_input": "2021-01-20T12:10:24.876989Z",
     "iopub.status.busy": "2021-01-20T12:10:24.876525Z",
     "iopub.status.idle": "2021-01-20T12:10:37.822661Z",
     "shell.execute_reply": "2021-01-20T12:10:37.822269Z"
    },
    "jupyter": {
     "source_hidden": true
    },
    "papermill": {
     "duration": 12.954879,
     "end_time": "2021-01-20T12:10:37.822776",
     "exception": false,
     "start_time": "2021-01-20T12:10:24.867897",
     "status": "completed"
    },
    "tags": []
   },
   "outputs": [],
   "source": [
    "from sklearn.ensemble import RandomForestRegressor\n",
    "rdr = RandomForestRegressor(\n",
    "    n_estimators=n_estimators,\n",
    "    max_features=max_features\n",
    ")\n",
    "rdr.fit(X_train,y_train)\n",
    "pred=rdr.predict(X_test)"
   ]
  },
  {
   "cell_type": "code",
   "execution_count": 11,
   "metadata": {
    "_uuid": "7ed5b8d4e8abb44a4b548c13ac9fb2d65227d1c5",
    "execution": {
     "iopub.execute_input": "2021-01-20T12:10:37.838158Z",
     "iopub.status.busy": "2021-01-20T12:10:37.837663Z",
     "iopub.status.idle": "2021-01-20T12:10:37.840567Z",
     "shell.execute_reply": "2021-01-20T12:10:37.841022Z"
    },
    "jupyter": {
     "source_hidden": true
    },
    "papermill": {
     "duration": 0.012881,
     "end_time": "2021-01-20T12:10:37.841168",
     "exception": false,
     "start_time": "2021-01-20T12:10:37.828287",
     "status": "completed"
    },
    "tags": []
   },
   "outputs": [],
   "source": [
    "#%%capture cap --no-stderr\n",
    "#print(np.sqrt(mean_squared_error(y_test, pred)))"
   ]
  },
  {
   "cell_type": "code",
   "execution_count": 12,
   "metadata": {
    "execution": {
     "iopub.execute_input": "2021-01-20T12:10:37.859488Z",
     "iopub.status.busy": "2021-01-20T12:10:37.859037Z",
     "iopub.status.idle": "2021-01-20T12:10:37.862153Z",
     "shell.execute_reply": "2021-01-20T12:10:37.861694Z"
    },
    "jupyter": {
     "source_hidden": true
    },
    "papermill": {
     "duration": 0.013832,
     "end_time": "2021-01-20T12:10:37.862270",
     "exception": false,
     "start_time": "2021-01-20T12:10:37.848438",
     "status": "completed"
    },
    "tags": []
   },
   "outputs": [],
   "source": [
    "#with open(output_rmse, 'w') as f:\n",
    "#    f.write(cap.stdout)"
   ]
  },
  {
   "cell_type": "code",
   "execution_count": 13,
   "metadata": {
    "execution": {
     "iopub.execute_input": "2021-01-20T12:10:37.878546Z",
     "iopub.status.busy": "2021-01-20T12:10:37.878058Z",
     "iopub.status.idle": "2021-01-20T12:10:37.896598Z",
     "shell.execute_reply": "2021-01-20T12:10:37.896110Z"
    },
    "jupyter": {
     "source_hidden": true
    },
    "papermill": {
     "duration": 0.028522,
     "end_time": "2021-01-20T12:10:37.896721",
     "exception": false,
     "start_time": "2021-01-20T12:10:37.868199",
     "status": "completed"
    },
    "tags": []
   },
   "outputs": [
    {
     "data": {
      "text/plain": [
       "<sqlalchemy.engine.result.ResultProxy at 0x7f5a66ecf990>"
      ]
     },
     "execution_count": 13,
     "metadata": {},
     "output_type": "execute_result"
    }
   ],
   "source": [
    "cnx.execute(\"\"\"\n",
    "    INSERT INTO ml.accuracies (ml_id, ml_date, accuracy) VALUES ('{0}', '{1}', {2}) \n",
    "    ON CONFLICT (ml_id, ml_date) \n",
    "    DO\n",
    "        UPDATE SET accuracy = {2};\n",
    "    \"\"\".format(ml_id, ml_date, np.sqrt(mean_squared_error(y_test, pred))))"
   ]
  }
 ],
 "metadata": {
  "kernelspec": {
   "display_name": "Python 3",
   "language": "python",
   "name": "python3"
  },
  "language_info": {
   "codemirror_mode": {
    "name": "ipython",
    "version": 3
   },
   "file_extension": ".py",
   "mimetype": "text/x-python",
   "name": "python",
   "nbconvert_exporter": "python",
   "pygments_lexer": "ipython3",
   "version": "3.7.9"
  },
  "papermill": {
   "duration": 15.593125,
   "end_time": "2021-01-20T12:10:38.309282",
   "environment_variables": {},
   "exception": null,
   "input_path": "/usr/local/airflow/include/notebooks/avocado_prediction.ipynb",
   "output_path": "/tmp/out-model-avocado-prediction-auto_150.ipynb",
   "parameters": {
    "filepath": "/tmp/avocado.csv",
    "max_features": "auto",
    "ml_id": "auto_150",
    "n_estimators": 150
   },
   "start_time": "2021-01-20T12:10:22.716157",
   "version": "2.1.2"
  }
 },
 "nbformat": 4,
 "nbformat_minor": 4
}